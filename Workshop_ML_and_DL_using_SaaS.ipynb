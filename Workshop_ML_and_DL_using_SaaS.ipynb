{
  "nbformat": 4,
  "nbformat_minor": 0,
  "metadata": {
    "colab": {
      "name": "Workshop_ML-and-DL-using-SaaS.ipynb",
      "provenance": [],
      "collapsed_sections": [],
      "authorship_tag": "ABX9TyO9cPMty5DBD2ZsO9K9BjN4",
      "include_colab_link": true
    },
    "kernelspec": {
      "name": "python3",
      "display_name": "Python 3"
    },
    "language_info": {
      "name": "python"
    },
    "widgets": {
      "application/vnd.jupyter.widget-state+json": {
        "091d66bc848b41febdfca8a4db54f34e": {
          "model_module": "@jupyter-widgets/controls",
          "model_name": "FloatTextModel",
          "state": {
            "_view_name": "FloatTextView",
            "style": "IPY_MODEL_7a079ecd35034d62982149851d043f95",
            "_dom_classes": [],
            "description": "Petal Length (cm):",
            "_model_name": "FloatTextModel",
            "_view_module": "@jupyter-widgets/controls",
            "_model_module_version": "1.5.0",
            "value": 0.2,
            "_view_count": null,
            "disabled": false,
            "_view_module_version": "1.5.0",
            "continuous_update": true,
            "step": null,
            "description_tooltip": null,
            "_model_module": "@jupyter-widgets/controls",
            "layout": "IPY_MODEL_52662d1171eb4f419d7c1be9ae2d2fb6"
          }
        },
        "7a079ecd35034d62982149851d043f95": {
          "model_module": "@jupyter-widgets/controls",
          "model_name": "DescriptionStyleModel",
          "state": {
            "_view_name": "StyleView",
            "_model_name": "DescriptionStyleModel",
            "description_width": "",
            "_view_module": "@jupyter-widgets/base",
            "_model_module_version": "1.5.0",
            "_view_count": null,
            "_view_module_version": "1.2.0",
            "_model_module": "@jupyter-widgets/controls"
          }
        },
        "52662d1171eb4f419d7c1be9ae2d2fb6": {
          "model_module": "@jupyter-widgets/base",
          "model_name": "LayoutModel",
          "state": {
            "_view_name": "LayoutView",
            "grid_template_rows": null,
            "right": null,
            "justify_content": null,
            "_view_module": "@jupyter-widgets/base",
            "overflow": null,
            "_model_module_version": "1.2.0",
            "_view_count": null,
            "flex_flow": null,
            "width": null,
            "min_width": null,
            "border": null,
            "align_items": null,
            "bottom": null,
            "_model_module": "@jupyter-widgets/base",
            "top": null,
            "grid_column": null,
            "overflow_y": null,
            "overflow_x": null,
            "grid_auto_flow": null,
            "grid_area": null,
            "grid_template_columns": null,
            "flex": null,
            "_model_name": "LayoutModel",
            "justify_items": null,
            "grid_row": null,
            "max_height": null,
            "align_content": null,
            "visibility": null,
            "align_self": null,
            "height": null,
            "min_height": null,
            "padding": null,
            "grid_auto_rows": null,
            "grid_gap": null,
            "max_width": null,
            "order": null,
            "_view_module_version": "1.2.0",
            "grid_template_areas": null,
            "object_position": null,
            "object_fit": null,
            "grid_auto_columns": null,
            "margin": null,
            "display": null,
            "left": null
          }
        },
        "200facc7585e4eb8adac6de259b6b892": {
          "model_module": "@jupyter-widgets/controls",
          "model_name": "DropdownModel",
          "state": {
            "_options_labels": [
              "0.2",
              "0.4",
              "0.6",
              "0.8",
              "1.0",
              "1.2",
              "1.4",
              "1.6",
              "1.8",
              "2.0",
              "2.2",
              "2.4",
              "2.6",
              "2.8",
              "3.0",
              "3.2",
              "3.4",
              "3.6",
              "3.8",
              "4.0"
            ],
            "_view_name": "DropdownView",
            "style": "IPY_MODEL_7e882577c0444b9ab9653bf24b1e43cf",
            "_dom_classes": [],
            "description": "Petal Width (cm)#:",
            "_model_name": "DropdownModel",
            "index": 11,
            "_view_module": "@jupyter-widgets/controls",
            "_model_module_version": "1.5.0",
            "_view_count": null,
            "disabled": false,
            "_view_module_version": "1.5.0",
            "description_tooltip": null,
            "_model_module": "@jupyter-widgets/controls",
            "layout": "IPY_MODEL_843c311ed7904ed5adaf865aca6ad1a6"
          }
        },
        "7e882577c0444b9ab9653bf24b1e43cf": {
          "model_module": "@jupyter-widgets/controls",
          "model_name": "DescriptionStyleModel",
          "state": {
            "_view_name": "StyleView",
            "_model_name": "DescriptionStyleModel",
            "description_width": "",
            "_view_module": "@jupyter-widgets/base",
            "_model_module_version": "1.5.0",
            "_view_count": null,
            "_view_module_version": "1.2.0",
            "_model_module": "@jupyter-widgets/controls"
          }
        },
        "843c311ed7904ed5adaf865aca6ad1a6": {
          "model_module": "@jupyter-widgets/base",
          "model_name": "LayoutModel",
          "state": {
            "_view_name": "LayoutView",
            "grid_template_rows": null,
            "right": null,
            "justify_content": null,
            "_view_module": "@jupyter-widgets/base",
            "overflow": null,
            "_model_module_version": "1.2.0",
            "_view_count": null,
            "flex_flow": null,
            "width": null,
            "min_width": null,
            "border": null,
            "align_items": null,
            "bottom": null,
            "_model_module": "@jupyter-widgets/base",
            "top": null,
            "grid_column": null,
            "overflow_y": null,
            "overflow_x": null,
            "grid_auto_flow": null,
            "grid_area": null,
            "grid_template_columns": null,
            "flex": null,
            "_model_name": "LayoutModel",
            "justify_items": null,
            "grid_row": null,
            "max_height": null,
            "align_content": null,
            "visibility": null,
            "align_self": null,
            "height": null,
            "min_height": null,
            "padding": null,
            "grid_auto_rows": null,
            "grid_gap": null,
            "max_width": null,
            "order": null,
            "_view_module_version": "1.2.0",
            "grid_template_areas": null,
            "object_position": null,
            "object_fit": null,
            "grid_auto_columns": null,
            "margin": null,
            "display": null,
            "left": null
          }
        },
        "0308b908b87c47a396e78c79d80c45f3": {
          "model_module": "@jupyter-widgets/controls",
          "model_name": "FloatSliderModel",
          "state": {
            "_view_name": "FloatSliderView",
            "style": "IPY_MODEL_bfca7ab666064b4d8110ccfb21c764d7",
            "_dom_classes": [],
            "description": "Sepal Length (cm):",
            "step": 0.1,
            "_model_name": "FloatSliderModel",
            "orientation": "horizontal",
            "max": 6,
            "_view_module": "@jupyter-widgets/controls",
            "_model_module_version": "1.5.0",
            "value": 1.3,
            "_view_count": null,
            "disabled": false,
            "_view_module_version": "1.5.0",
            "min": 0,
            "continuous_update": true,
            "readout_format": ".1f",
            "description_tooltip": null,
            "readout": true,
            "_model_module": "@jupyter-widgets/controls",
            "layout": "IPY_MODEL_cabbea1d3c26411d881d32ab39637b3c"
          }
        },
        "bfca7ab666064b4d8110ccfb21c764d7": {
          "model_module": "@jupyter-widgets/controls",
          "model_name": "SliderStyleModel",
          "state": {
            "_view_name": "StyleView",
            "handle_color": null,
            "_model_name": "SliderStyleModel",
            "description_width": "",
            "_view_module": "@jupyter-widgets/base",
            "_model_module_version": "1.5.0",
            "_view_count": null,
            "_view_module_version": "1.2.0",
            "_model_module": "@jupyter-widgets/controls"
          }
        },
        "cabbea1d3c26411d881d32ab39637b3c": {
          "model_module": "@jupyter-widgets/base",
          "model_name": "LayoutModel",
          "state": {
            "_view_name": "LayoutView",
            "grid_template_rows": null,
            "right": null,
            "justify_content": null,
            "_view_module": "@jupyter-widgets/base",
            "overflow": null,
            "_model_module_version": "1.2.0",
            "_view_count": null,
            "flex_flow": null,
            "width": null,
            "min_width": null,
            "border": null,
            "align_items": null,
            "bottom": null,
            "_model_module": "@jupyter-widgets/base",
            "top": null,
            "grid_column": null,
            "overflow_y": null,
            "overflow_x": null,
            "grid_auto_flow": null,
            "grid_area": null,
            "grid_template_columns": null,
            "flex": null,
            "_model_name": "LayoutModel",
            "justify_items": null,
            "grid_row": null,
            "max_height": null,
            "align_content": null,
            "visibility": null,
            "align_self": null,
            "height": null,
            "min_height": null,
            "padding": null,
            "grid_auto_rows": null,
            "grid_gap": null,
            "max_width": null,
            "order": null,
            "_view_module_version": "1.2.0",
            "grid_template_areas": null,
            "object_position": null,
            "object_fit": null,
            "grid_auto_columns": null,
            "margin": null,
            "display": null,
            "left": null
          }
        },
        "3c805a0d14374b6d84ac7fc3c730d18a": {
          "model_module": "@jupyter-widgets/controls",
          "model_name": "FloatSliderModel",
          "state": {
            "_view_name": "FloatSliderView",
            "style": "IPY_MODEL_a084e603a7ef4cee996eba67bbe8a697",
            "_dom_classes": [],
            "description": "Sepal Width (cm):",
            "step": 0.1,
            "_model_name": "FloatSliderModel",
            "orientation": "horizontal",
            "max": 3,
            "_view_module": "@jupyter-widgets/controls",
            "_model_module_version": "1.5.0",
            "value": 0.7,
            "_view_count": null,
            "disabled": false,
            "_view_module_version": "1.5.0",
            "min": 0,
            "continuous_update": true,
            "readout_format": ".1f",
            "description_tooltip": null,
            "readout": true,
            "_model_module": "@jupyter-widgets/controls",
            "layout": "IPY_MODEL_9fcda2ab222d4976985075ecf0c92212"
          }
        },
        "a084e603a7ef4cee996eba67bbe8a697": {
          "model_module": "@jupyter-widgets/controls",
          "model_name": "SliderStyleModel",
          "state": {
            "_view_name": "StyleView",
            "handle_color": null,
            "_model_name": "SliderStyleModel",
            "description_width": "",
            "_view_module": "@jupyter-widgets/base",
            "_model_module_version": "1.5.0",
            "_view_count": null,
            "_view_module_version": "1.2.0",
            "_model_module": "@jupyter-widgets/controls"
          }
        },
        "9fcda2ab222d4976985075ecf0c92212": {
          "model_module": "@jupyter-widgets/base",
          "model_name": "LayoutModel",
          "state": {
            "_view_name": "LayoutView",
            "grid_template_rows": null,
            "right": null,
            "justify_content": null,
            "_view_module": "@jupyter-widgets/base",
            "overflow": null,
            "_model_module_version": "1.2.0",
            "_view_count": null,
            "flex_flow": null,
            "width": null,
            "min_width": null,
            "border": null,
            "align_items": null,
            "bottom": null,
            "_model_module": "@jupyter-widgets/base",
            "top": null,
            "grid_column": null,
            "overflow_y": null,
            "overflow_x": null,
            "grid_auto_flow": null,
            "grid_area": null,
            "grid_template_columns": null,
            "flex": null,
            "_model_name": "LayoutModel",
            "justify_items": null,
            "grid_row": null,
            "max_height": null,
            "align_content": null,
            "visibility": null,
            "align_self": null,
            "height": null,
            "min_height": null,
            "padding": null,
            "grid_auto_rows": null,
            "grid_gap": null,
            "max_width": null,
            "order": null,
            "_view_module_version": "1.2.0",
            "grid_template_areas": null,
            "object_position": null,
            "object_fit": null,
            "grid_auto_columns": null,
            "margin": null,
            "display": null,
            "left": null
          }
        }
      }
    }
  },
  "cells": [
    {
      "cell_type": "markdown",
      "metadata": {
        "id": "view-in-github",
        "colab_type": "text"
      },
      "source": [
        "<a href=\"https://colab.research.google.com/github/bhevencious/Workshop_ML-and-DL-using-SaaS/blob/main/Workshop_ML_and_DL_using_SaaS.ipynb\" target=\"_parent\"><img src=\"https://colab.research.google.com/assets/colab-badge.svg\" alt=\"Open In Colab\"/></a>"
      ]
    },
    {
      "cell_type": "code",
      "metadata": {
        "colab": {
          "base_uri": "https://localhost:8080/",
          "height": 1000
        },
        "id": "CBlJyItqkeUA",
        "outputId": "0b07213a-6b86-4304-dc1d-0e4748ce52e7"
      },
      "source": [
        "# Import Standard Libraries \n",
        "import pandas as pd\n",
        "import numpy as np\n",
        "import matplotlib.pyplot as plt\n",
        "import seaborn as sns\n",
        "# Embed/Render figures and graphs within the code editor rather than on separate pop-up windows/screens\n",
        "%matplotlib inline\n",
        "\n",
        "# Global Settings\n",
        "pd.set_option(\"display.max_columns\", None)  # Display all the columns in the dataset\n",
        "#pd.set_option(\"display.max_rows\", None)  # Display all the rows in the dataset\n",
        "\n",
        "# Import ML Libaries \n",
        "from sklearn.model_selection import train_test_split\n",
        "from sklearn.linear_model import LinearRegression, LogisticRegression\n",
        "from sklearn import svm\n",
        "from sklearn.metrics import mean_absolute_error, mean_squared_error\n",
        "\n",
        "# Import Dataset from Scikit-Learn Library\n",
        "from sklearn.datasets import load_iris\n",
        "\n",
        "# Load Iris Dataset (X_features and y_targets)\n",
        "iris = load_iris()\n",
        "\n",
        "# X_features\n",
        "print('X_features: Iris Dataset', '\\n------------------------')\n",
        "iris_df = pd.DataFrame(data=iris.data, columns=iris.feature_names)\n",
        "print(iris_df)\n",
        "\n",
        "# y_targets\n",
        "print('y_targets: Iris Dataset', '\\n-----------------------')\n",
        "print('y_targets values:', iris.target)\n",
        "print('y_targets names:', iris.target_names)\n",
        "\n",
        "def target_value_2_target_name(vals):\n",
        "  temp = list()\n",
        "  for i in vals:    \n",
        "    if i == 0:\n",
        "        temp.append('setosa')\n",
        "    elif i == 1:\n",
        "        temp.append('versicolor')\n",
        "    elif i == 2:\n",
        "        temp.append('virginica')\n",
        "\n",
        "  return temp\n",
        "\n",
        "# Convert 'y_targets' Numeric Values to Textual Labels\n",
        "print('\\ny_targets_names (updated): Iris Dataset', '\\n---------------------------------------')\n",
        "target_df = pd.DataFrame(target_value_2_target_name(iris.target), columns=['species'])\n",
        "print(target_df)\n",
        "\n",
        "# Fuse 'X_features' and 'y_targets' into a Single Dataframe\n",
        "print('X_features && y_targets: Iris Dataset', '\\n-------------------------------------')\n",
        "iris_df = pd.concat([iris_df, target_df], axis= 1)  # Fuse along the vertical (or y) axis\n",
        "print(iris_df)\n",
        "\n",
        "# Basic Analytics of 'Iris' Dataset\n",
        "print('Basic Analytics/Description: Iris Dataset', '\\n-----------------------------------------')\n",
        "iris_df.describe()\n",
        "iris_df.info()\n",
        "iris_df.shape\n",
        "\n",
        "# Visualization of 'Iris' Dataset\n",
        "plt.style.use('ggplot')\n",
        "sns.pairplot(iris_df, hue='species', height=3)  # Seaborn visualization\n",
        "pd.plotting.scatter_matrix(iris_df, alpha=0.9, figsize=(16, 10), diagonal='kde')  # Pandas scatter-matrix\n",
        "plt.show()"
      ],
      "execution_count": null,
      "outputs": [
        {
          "output_type": "stream",
          "text": [
            "X_features: Iris Dataset \n",
            "------------------------\n",
            "     sepal length (cm)  sepal width (cm)  petal length (cm)  petal width (cm)\n",
            "0                  5.1               3.5                1.4               0.2\n",
            "1                  4.9               3.0                1.4               0.2\n",
            "2                  4.7               3.2                1.3               0.2\n",
            "3                  4.6               3.1                1.5               0.2\n",
            "4                  5.0               3.6                1.4               0.2\n",
            "..                 ...               ...                ...               ...\n",
            "145                6.7               3.0                5.2               2.3\n",
            "146                6.3               2.5                5.0               1.9\n",
            "147                6.5               3.0                5.2               2.0\n",
            "148                6.2               3.4                5.4               2.3\n",
            "149                5.9               3.0                5.1               1.8\n",
            "\n",
            "[150 rows x 4 columns]\n",
            "y_targets: Iris Dataset \n",
            "-----------------------\n",
            "y_targets values: [0 0 0 0 0 0 0 0 0 0 0 0 0 0 0 0 0 0 0 0 0 0 0 0 0 0 0 0 0 0 0 0 0 0 0 0 0\n",
            " 0 0 0 0 0 0 0 0 0 0 0 0 0 1 1 1 1 1 1 1 1 1 1 1 1 1 1 1 1 1 1 1 1 1 1 1 1\n",
            " 1 1 1 1 1 1 1 1 1 1 1 1 1 1 1 1 1 1 1 1 1 1 1 1 1 1 2 2 2 2 2 2 2 2 2 2 2\n",
            " 2 2 2 2 2 2 2 2 2 2 2 2 2 2 2 2 2 2 2 2 2 2 2 2 2 2 2 2 2 2 2 2 2 2 2 2 2\n",
            " 2 2]\n",
            "y_targets names: ['setosa' 'versicolor' 'virginica']\n",
            "\n",
            "y_targets_names (updated): Iris Dataset \n",
            "---------------------------------------\n",
            "       species\n",
            "0       setosa\n",
            "1       setosa\n",
            "2       setosa\n",
            "3       setosa\n",
            "4       setosa\n",
            "..         ...\n",
            "145  virginica\n",
            "146  virginica\n",
            "147  virginica\n",
            "148  virginica\n",
            "149  virginica\n",
            "\n",
            "[150 rows x 1 columns]\n",
            "X_features && y_targets: Iris Dataset \n",
            "-------------------------------------\n",
            "     sepal length (cm)  sepal width (cm)  petal length (cm)  petal width (cm)  \\\n",
            "0                  5.1               3.5                1.4               0.2   \n",
            "1                  4.9               3.0                1.4               0.2   \n",
            "2                  4.7               3.2                1.3               0.2   \n",
            "3                  4.6               3.1                1.5               0.2   \n",
            "4                  5.0               3.6                1.4               0.2   \n",
            "..                 ...               ...                ...               ...   \n",
            "145                6.7               3.0                5.2               2.3   \n",
            "146                6.3               2.5                5.0               1.9   \n",
            "147                6.5               3.0                5.2               2.0   \n",
            "148                6.2               3.4                5.4               2.3   \n",
            "149                5.9               3.0                5.1               1.8   \n",
            "\n",
            "       species  \n",
            "0       setosa  \n",
            "1       setosa  \n",
            "2       setosa  \n",
            "3       setosa  \n",
            "4       setosa  \n",
            "..         ...  \n",
            "145  virginica  \n",
            "146  virginica  \n",
            "147  virginica  \n",
            "148  virginica  \n",
            "149  virginica  \n",
            "\n",
            "[150 rows x 5 columns]\n",
            "Basic Analytics/Description: Iris Dataset \n",
            "-----------------------------------------\n",
            "<class 'pandas.core.frame.DataFrame'>\n",
            "RangeIndex: 150 entries, 0 to 149\n",
            "Data columns (total 5 columns):\n",
            " #   Column             Non-Null Count  Dtype  \n",
            "---  ------             --------------  -----  \n",
            " 0   sepal length (cm)  150 non-null    float64\n",
            " 1   sepal width (cm)   150 non-null    float64\n",
            " 2   petal length (cm)  150 non-null    float64\n",
            " 3   petal width (cm)   150 non-null    float64\n",
            " 4   species            150 non-null    object \n",
            "dtypes: float64(4), object(1)\n",
            "memory usage: 6.0+ KB\n"
          ],
          "name": "stdout"
        },
        {
          "output_type": "display_data",
          "data": {
            "image/png": "[encoded data removed]",
            "text/plain": [
              "<Figure size 948.75x864 with 20 Axes>"
            ]
          },
          "metadata": {
            "tags": []
          }
        },
        {
          "output_type": "display_data",
          "data": {
            "image/png": "[encoded data removed]",
            "text/plain": [
              "<Figure size 1152x720 with 16 Axes>"
            ]
          },
          "metadata": {
            "tags": []
          }
        }
      ]
    },
    {
      "cell_type": "code",
      "metadata": {
        "colab": {
          "base_uri": "https://localhost:8080/"
        },
        "id": "AP1n5B_pLX1m",
        "outputId": "1505958b-f5ab-4290-bd05-02373a3846f9"
      },
      "source": [
        "# Variables \n",
        "X = iris_df.iloc[:, :-1]  # Returns all rows and all columns except the last column (species)\n",
        "y = iris.target\n",
        "\n",
        "# Split Iris Dataset into TRAIN and TEST portions\n",
        "X_train, X_test, y_train, y_test = train_test_split(X, y, train_size= 0.75, random_state= 32)\n",
        "print('Shape of TRAIN X_features:', X_train.shape)\n",
        "print('Shape of TEST X_features:', X_test.shape)\n",
        "\n",
        "# Instantiating LinearRegression() Model\n",
        "model = LinearRegression()\n",
        "#model = svm.SVC()\n",
        "#model = LogisticRegression()\n",
        "model.fit(X_train, y_train)\n",
        "pred = model.predict(X_test)\n",
        "\n",
        "# Evaluating Model's Performance\n",
        "print('Mean Absolute Error:', mean_absolute_error(y_test, pred))\n",
        "print('Mean Squared Error:', mean_squared_error(y_test, pred))\n",
        "print('Mean Root Squared Error:', np.sqrt(mean_squared_error(y_test, pred)))"
      ],
      "execution_count": null,
      "outputs": [
        {
          "output_type": "stream",
          "text": [
            "Shape of TRAIN X_features: (112, 4)\n",
            "Shape of TEST X_features: (38, 4)\n",
            "Mean Absolute Error: 0.16798463650362158\n",
            "Mean Squared Error: 0.046153112298841094\n",
            "Mean Root Squared Error: 0.21483275425046594\n"
          ],
          "name": "stdout"
        }
      ]
    },
    {
      "cell_type": "code",
      "metadata": {
        "colab": {
          "base_uri": "https://localhost:8080/",
          "height": 35
        },
        "id": "eH-W_bm1PaG2",
        "outputId": "9b00d5f0-da8e-4e0e-af89-fbb49d80a57d"
      },
      "source": [
        "# This is an inline comment within a code cell\n",
        "\n",
        "'''\n",
        "This is a multi-line comment within a code cell\n",
        "'''"
      ],
      "execution_count": null,
      "outputs": [
        {
          "output_type": "execute_result",
          "data": {
            "application/vnd.google.colaboratory.intrinsic+json": {
              "type": "string"
            },
            "text/plain": [
              "'\\nThis is a multi-line comment within a code cell\\n'"
            ]
          },
          "metadata": {
            "tags": []
          },
          "execution_count": 26
        }
      ]
    },
    {
      "cell_type": "markdown",
      "metadata": {
        "id": "XozYQX0iQsK2"
      },
      "source": [
        "## Text cells in Google Colab support **Markdown** and **LaTex** syntax as well\n",
        "---\n",
        "\n",
        "**Linear Regression:** $ y = mx + c $ \\\\\n",
        "**Logistic Regression:** $ \\dfrac{1}{1 + e^{-x}} \\equiv \\dfrac{e^{x}}{e^{x} + 1} $ \\\\"
      ]
    },
    {
      "cell_type": "code",
      "metadata": {
        "colab": {
          "base_uri": "https://localhost:8080/"
        },
        "id": "KIrNEiK_QtPO",
        "outputId": "5d902927-95de-400c-8445-2e523bcc094a"
      },
      "source": [
        "!ls /bin"
      ],
      "execution_count": null,
      "outputs": [
        {
          "output_type": "stream",
          "text": [
            "bash\t       hostname       su\n",
            "bunzip2        journalctl     sync\n",
            "bzcat\t       kill\t      systemctl\n",
            "bzcmp\t       kmod\t      systemd\n",
            "bzdiff\t       less\t      systemd-ask-password\n",
            "bzegrep        lessecho       systemd-escape\n",
            "bzexe\t       lessfile       systemd-hwdb\n",
            "bzfgrep        lesskey\t      systemd-inhibit\n",
            "bzgrep\t       lesspipe       systemd-machine-id-setup\n",
            "bzip2\t       ln\t      systemd-notify\n",
            "bzip2recover   login\t      systemd-sysusers\n",
            "bzless\t       loginctl       systemd-tmpfiles\n",
            "bzmore\t       ls\t      systemd-tty-ask-password-agent\n",
            "cat\t       lsblk\t      tar\n",
            "chgrp\t       lsmod\t      tempfile\n",
            "chmod\t       mkdir\t      touch\n",
            "chown\t       mknod\t      true\n",
            "cp\t       mktemp\t      udevadm\n",
            "dash\t       more\t      ulockmgr_server\n",
            "date\t       mount\t      umount\n",
            "dd\t       mountpoint     uname\n",
            "df\t       mv\t      uncompress\n",
            "dir\t       networkctl     vdir\n",
            "dmesg\t       nisdomainname  wdctl\n",
            "dnsdomainname  pidof\t      which\n",
            "domainname     ps\t      ypdomainname\n",
            "echo\t       pwd\t      zcat\n",
            "egrep\t       rbash\t      zcmp\n",
            "false\t       readlink       zdiff\n",
            "fgrep\t       rm\t      zegrep\n",
            "findmnt        rmdir\t      zfgrep\n",
            "fuser\t       run-parts      zforce\n",
            "fusermount     sed\t      zgrep\n",
            "grep\t       sh\t      zless\n",
            "gunzip\t       sh.distrib     zmore\n",
            "gzexe\t       sleep\t      znew\n",
            "gzip\t       stty\n"
          ],
          "name": "stdout"
        }
      ]
    },
    {
      "cell_type": "code",
      "metadata": {
        "colab": {
          "base_uri": "https://localhost:8080/"
        },
        "id": "6P13HWSpQJAf",
        "outputId": "77fab5fe-6b7c-4f91-9d08-b303cb0c01bd"
      },
      "source": [
        "!git clone https://github.com/bhevencious/Workshop_ML-and-DL-using-SaaS.git"
      ],
      "execution_count": null,
      "outputs": [
        {
          "output_type": "stream",
          "text": [
            "fatal: destination path 'Workshop_ML-and-DL-using-SaaS' already exists and is not an empty directory.\n"
          ],
          "name": "stdout"
        }
      ]
    },
    {
      "cell_type": "code",
      "metadata": {
        "colab": {
          "base_uri": "https://localhost:8080/",
          "height": 340
        },
        "id": "UMbD1WXfROlX",
        "outputId": "43b98fa6-6f67-4fc4-c271-aa214b4c1d2c"
      },
      "source": [
        "import pandas as pd\n",
        "\n",
        "'''\n",
        "Read a local dataset/file (in .csv format) present in your working directory\n",
        "USE: pd.read_csv(\"<LOCAL_URL>\")\n",
        "'''\n",
        "a = pd.read_csv(\"sample_data/california_housing_train.csv\")\n",
        "print(a.head())\n",
        "\n",
        "'''\n",
        "# Read a local dataset/file (in .csv format) present in a remote GitHub directory\n",
        "USE: pd.read_csv(\"<REMOTE/RAW_URL>\")\n",
        "'''\n",
        "b = pd.read_csv(\"https://raw.githubusercontent.com/bhevencious/Workshop_ML-and-\\\n",
        "DL-using-SaaS/main/datasets/california_housing_test.csv\")  # MUST use the 'raw' link/url from GitHub\n",
        "b.head()"
      ],
      "execution_count": null,
      "outputs": [
        {
          "output_type": "stream",
          "text": [
            "   longitude  latitude  ...  median_income  median_house_value\n",
            "0    -114.31     34.19  ...         1.4936             66900.0\n",
            "1    -114.47     34.40  ...         1.8200             80100.0\n",
            "2    -114.56     33.69  ...         1.6509             85700.0\n",
            "3    -114.57     33.64  ...         3.1917             73400.0\n",
            "4    -114.57     33.57  ...         1.9250             65500.0\n",
            "\n",
            "[5 rows x 9 columns]\n"
          ],
          "name": "stdout"
        },
        {
          "output_type": "execute_result",
          "data": {
            "text/html": [
              "<div>\n",
              "<style scoped>\n",
              "    .dataframe tbody tr th:only-of-type {\n",
              "        vertical-align: middle;\n",
              "    }\n",
              "\n",
              "    .dataframe tbody tr th {\n",
              "        vertical-align: top;\n",
              "    }\n",
              "\n",
              "    .dataframe thead th {\n",
              "        text-align: right;\n",
              "    }\n",
              "</style>\n",
              "<table border=\"1\" class=\"dataframe\">\n",
              "  <thead>\n",
              "    <tr style=\"text-align: right;\">\n",
              "      <th></th>\n",
              "      <th>longitude</th>\n",
              "      <th>latitude</th>\n",
              "      <th>housing_median_age</th>\n",
              "      <th>total_rooms</th>\n",
              "      <th>total_bedrooms</th>\n",
              "      <th>population</th>\n",
              "      <th>households</th>\n",
              "      <th>median_income</th>\n",
              "      <th>median_house_value</th>\n",
              "    </tr>\n",
              "  </thead>\n",
              "  <tbody>\n",
              "    <tr>\n",
              "      <th>0</th>\n",
              "      <td>-122.05</td>\n",
              "      <td>37.37</td>\n",
              "      <td>27.0</td>\n",
              "      <td>3885.0</td>\n",
              "      <td>661.0</td>\n",
              "      <td>1537.0</td>\n",
              "      <td>606.0</td>\n",
              "      <td>6.6085</td>\n",
              "      <td>344700.0</td>\n",
              "    </tr>\n",
              "    <tr>\n",
              "      <th>1</th>\n",
              "      <td>-118.30</td>\n",
              "      <td>34.26</td>\n",
              "      <td>43.0</td>\n",
              "      <td>1510.0</td>\n",
              "      <td>310.0</td>\n",
              "      <td>809.0</td>\n",
              "      <td>277.0</td>\n",
              "      <td>3.5990</td>\n",
              "      <td>176500.0</td>\n",
              "    </tr>\n",
              "    <tr>\n",
              "      <th>2</th>\n",
              "      <td>-117.81</td>\n",
              "      <td>33.78</td>\n",
              "      <td>27.0</td>\n",
              "      <td>3589.0</td>\n",
              "      <td>507.0</td>\n",
              "      <td>1484.0</td>\n",
              "      <td>495.0</td>\n",
              "      <td>5.7934</td>\n",
              "      <td>270500.0</td>\n",
              "    </tr>\n",
              "    <tr>\n",
              "      <th>3</th>\n",
              "      <td>-118.36</td>\n",
              "      <td>33.82</td>\n",
              "      <td>28.0</td>\n",
              "      <td>67.0</td>\n",
              "      <td>15.0</td>\n",
              "      <td>49.0</td>\n",
              "      <td>11.0</td>\n",
              "      <td>6.1359</td>\n",
              "      <td>330000.0</td>\n",
              "    </tr>\n",
              "    <tr>\n",
              "      <th>4</th>\n",
              "      <td>-119.67</td>\n",
              "      <td>36.33</td>\n",
              "      <td>19.0</td>\n",
              "      <td>1241.0</td>\n",
              "      <td>244.0</td>\n",
              "      <td>850.0</td>\n",
              "      <td>237.0</td>\n",
              "      <td>2.9375</td>\n",
              "      <td>81700.0</td>\n",
              "    </tr>\n",
              "  </tbody>\n",
              "</table>\n",
              "</div>"
            ],
            "text/plain": [
              "   longitude  latitude  ...  median_income  median_house_value\n",
              "0    -122.05     37.37  ...         6.6085            344700.0\n",
              "1    -118.30     34.26  ...         3.5990            176500.0\n",
              "2    -117.81     33.78  ...         5.7934            270500.0\n",
              "3    -118.36     33.82  ...         6.1359            330000.0\n",
              "4    -119.67     36.33  ...         2.9375             81700.0\n",
              "\n",
              "[5 rows x 9 columns]"
            ]
          },
          "metadata": {
            "tags": []
          },
          "execution_count": 40
        }
      ]
    },
    {
      "cell_type": "code",
      "metadata": {
        "colab": {
          "base_uri": "https://localhost:8080/",
          "height": 221
        },
        "id": "y0ZlSJYRRquv",
        "outputId": "af478cab-f299-4e35-fd25-0edc2226f9d9"
      },
      "source": [
        "# Install and Import MySQL Database Dependencies\n",
        "!pip install pymysql\n",
        "import pymysql\n",
        "import sqlalchemy\n",
        "\n",
        "# Initialize Connection Hyperparameters\n",
        "HOSTNAME = 'sql5.freesqldatabase.com'\n",
        "USER = 'sql5421285'\n",
        "PASSWORD = 'hjR44EajY2'\n",
        "DATABASE = 'sql5421285'\n",
        "TABLE = 'continents'\n",
        "\n",
        "# Instantiate a MySQL Connection String\n",
        "# conn_string = f'mysql+pymysql://<USER>:<PASSWORD>@<HOSTNAME>/<DATABASE>'\n",
        "conn_string = f'mysql+pymysql://'+USER+':'+PASSWORD+'@'+HOSTNAME+'/'+DATABASE\n",
        "engine = sqlalchemy.create_engine(conn_string)\n",
        "\n",
        "# Run a MySQL Query\n",
        "# query = f'SELECT * FROM <DATABASE>.<TABLE>'\n",
        "query = f'SELECT * FROM '+DATABASE+'.'+TABLE\n",
        " \n",
        "# Read MySQL Query Result/Data\n",
        "import pandas as pd\n",
        "c = pd.read_sql_query(query, engine)\n",
        "c.head()"
      ],
      "execution_count": null,
      "outputs": [
        {
          "output_type": "stream",
          "text": [
            "Requirement already satisfied: pymysql in /usr/local/lib/python3.7/dist-packages (1.0.2)\n"
          ],
          "name": "stdout"
        },
        {
          "output_type": "execute_result",
          "data": {
            "text/html": [
              "<div>\n",
              "<style scoped>\n",
              "    .dataframe tbody tr th:only-of-type {\n",
              "        vertical-align: middle;\n",
              "    }\n",
              "\n",
              "    .dataframe tbody tr th {\n",
              "        vertical-align: top;\n",
              "    }\n",
              "\n",
              "    .dataframe thead th {\n",
              "        text-align: right;\n",
              "    }\n",
              "</style>\n",
              "<table border=\"1\" class=\"dataframe\">\n",
              "  <thead>\n",
              "    <tr style=\"text-align: right;\">\n",
              "      <th></th>\n",
              "      <th>id</th>\n",
              "      <th>uid</th>\n",
              "      <th>c0</th>\n",
              "      <th>flag</th>\n",
              "      <th>authorizer</th>\n",
              "      <th>effdate</th>\n",
              "    </tr>\n",
              "  </thead>\n",
              "  <tbody>\n",
              "    <tr>\n",
              "      <th>0</th>\n",
              "      <td>1</td>\n",
              "      <td>1398491170</td>\n",
              "      <td>Asia</td>\n",
              "      <td>1</td>\n",
              "      <td>master</td>\n",
              "      <td>2021-06-26 07:48:34</td>\n",
              "    </tr>\n",
              "    <tr>\n",
              "      <th>1</th>\n",
              "      <td>2</td>\n",
              "      <td>1398491180</td>\n",
              "      <td>Africa</td>\n",
              "      <td>1</td>\n",
              "      <td>master</td>\n",
              "      <td>2021-06-26 07:48:34</td>\n",
              "    </tr>\n",
              "    <tr>\n",
              "      <th>2</th>\n",
              "      <td>3</td>\n",
              "      <td>1398491190</td>\n",
              "      <td>North America</td>\n",
              "      <td>1</td>\n",
              "      <td>master</td>\n",
              "      <td>2021-06-26 07:48:34</td>\n",
              "    </tr>\n",
              "    <tr>\n",
              "      <th>3</th>\n",
              "      <td>4</td>\n",
              "      <td>1398491200</td>\n",
              "      <td>South America</td>\n",
              "      <td>1</td>\n",
              "      <td>master</td>\n",
              "      <td>2021-06-26 07:48:34</td>\n",
              "    </tr>\n",
              "    <tr>\n",
              "      <th>4</th>\n",
              "      <td>5</td>\n",
              "      <td>1398491210</td>\n",
              "      <td>Europe</td>\n",
              "      <td>1</td>\n",
              "      <td>master</td>\n",
              "      <td>2021-06-26 07:48:34</td>\n",
              "    </tr>\n",
              "  </tbody>\n",
              "</table>\n",
              "</div>"
            ],
            "text/plain": [
              "   id         uid             c0  flag authorizer             effdate\n",
              "0   1  1398491170           Asia     1     master 2021-06-26 07:48:34\n",
              "1   2  1398491180         Africa     1     master 2021-06-26 07:48:34\n",
              "2   3  1398491190  North America     1     master 2021-06-26 07:48:34\n",
              "3   4  1398491200  South America     1     master 2021-06-26 07:48:34\n",
              "4   5  1398491210         Europe     1     master 2021-06-26 07:48:34"
            ]
          },
          "metadata": {
            "tags": []
          },
          "execution_count": 53
        }
      ]
    },
    {
      "cell_type": "code",
      "metadata": {
        "id": "pFqeUT_2O212",
        "colab": {
          "base_uri": "https://localhost:8080/"
        },
        "outputId": "d8990e74-6b00-4458-db73-54852f4631b3"
      },
      "source": [
        "#@title Input (Data) Form for Testing our Iris-ML Model { run: \"auto\", vertical-output: true }\n",
        "#@markdown ---\n",
        "\n",
        "#@markdown Petal Length (cm)\n",
        "petal_length =  0.1#@param {type:\"number\"}\n",
        "\n",
        "#@markdown Petal Width (cm)\n",
        "petal_width = \"1.4\" #@param [\"0.2\", \"0.4\", \"0.6\", \"0.8\", \"1.0\", \"1.2\", \"1.4\", \"1.6\", \"1.8\", \"2.0\", \"2.2\", \"2.4\", \"2.6\", \"2.8\", \"3.0\", \"3.2\", \"3.4\", \"3.6\", \"3.8\", \"4.0\"] {allow-input: true}\n",
        "\n",
        "#@markdown Sepal Length (cm)\n",
        "sepal_length = 5.6 #@param {type:\"slider\", min:0, max:6, step:0.1}\n",
        "\n",
        "#@markdown Sepal Width (cm)\n",
        "sepal_width = 0.7 #@param {type:\"slider\", min:0, max:3, step:0.1}\n",
        "\n",
        "# Packaging Input for ML-Model Evaluation\n",
        "temp_df_row = pd.DataFrame([[sepal_length, sepal_width, petal_length, petal_width]])\n",
        "temp_pred = model.predict(temp_df_row)\n",
        "\n",
        "result = 'setosa'\n",
        "if round(temp_pred[0]) == 0:\n",
        "  result = 'setosa'\n",
        "elif round(temp_pred[0]) == 1:\n",
        "  result = 'versicolor'\n",
        "elif round(temp_pred[0]) == 2:\n",
        "  result = 'virginica'\n",
        "else:\n",
        "  result = 'UNKNOWN'\n",
        "\n",
        "#@markdown **The resultant type of Iris flower is:**\n",
        "print(result)\n"
      ],
      "execution_count": null,
      "outputs": [
        {
          "output_type": "stream",
          "text": [
            "setosa\n"
          ],
          "name": "stdout"
        }
      ]
    },
    {
      "cell_type": "code",
      "metadata": {
        "colab": {
          "base_uri": "https://localhost:8080/",
          "height": 139,
          "referenced_widgets": [
            "091d66bc848b41febdfca8a4db54f34e",
            "7a079ecd35034d62982149851d043f95",
            "52662d1171eb4f419d7c1be9ae2d2fb6",
            "200facc7585e4eb8adac6de259b6b892",
            "7e882577c0444b9ab9653bf24b1e43cf",
            "843c311ed7904ed5adaf865aca6ad1a6",
            "0308b908b87c47a396e78c79d80c45f3",
            "bfca7ab666064b4d8110ccfb21c764d7",
            "cabbea1d3c26411d881d32ab39637b3c",
            "3c805a0d14374b6d84ac7fc3c730d18a",
            "a084e603a7ef4cee996eba67bbe8a697",
            "9fcda2ab222d4976985075ecf0c92212"
          ]
        },
        "id": "uQdc0BK217_o",
        "outputId": "782e5f63-f35b-4bd3-9fe5-3fe77f64d666"
      },
      "source": [
        "import ipywidgets as widgets\n",
        "from IPython.display import display\n",
        "\n",
        "# Petal Length (cm)\n",
        "petal_length = widgets.FloatText(value=0.2, description='Petal Length (cm):', continuous_update=True, disabled=False)\n",
        "\n",
        "# Petal Width (cm)\n",
        "petal_width = widgets.Dropdown(options=[\"0.2\", \"0.4\", \"0.6\", \"0.8\", \"1.0\", \"1.2\", \"1.4\", \"1.6\", \"1.8\", \"2.0\", \"2.2\", \"2.4\", \"2.6\", \"2.8\", \"3.0\", \"3.2\", \"3.4\", \"3.6\", \"3.8\", \"4.0\"], \n",
        "                               value=\"0.2\", description='Petal Width (cm)#:', continuous_update=True, disabled=False)\n",
        "\n",
        "# Sepal Length (cm)\n",
        "sepal_length = widgets.FloatSlider(value=1.5, min=0, max=6.0, step=0.1, description='Sepal Length (cm):', disabled=False, \n",
        "                                   continuous_update=True, orientation='horizontal', readout=True, readout_format='.1f')\n",
        "\n",
        "# Sepal Width (cm)\n",
        "sepal_width = widgets.FloatSlider(value=0.5, min=0, max=3.0, step=0.1, description='Sepal Width (cm):', disabled=False, \n",
        "                                  continuous_update=True, orientation='horizontal', readout=True, readout_format='.1f')\n",
        "\n",
        "# Display all Interactive Widget Tools to Screen\n",
        "display(petal_length, petal_width, sepal_length, sepal_width)\n"
      ],
      "execution_count": null,
      "outputs": [
        {
          "output_type": "display_data",
          "data": {
            "application/vnd.jupyter.widget-view+json": {
              "model_id": "091d66bc848b41febdfca8a4db54f34e",
              "version_minor": 0,
              "version_major": 2
            },
            "text/plain": [
              "FloatText(value=0.2, continuous_update=True, description='Petal Length (cm):')"
            ]
          },
          "metadata": {
            "tags": []
          }
        },
        {
          "output_type": "display_data",
          "data": {
            "application/vnd.jupyter.widget-view+json": {
              "model_id": "200facc7585e4eb8adac6de259b6b892",
              "version_minor": 0,
              "version_major": 2
            },
            "text/plain": [
              "Dropdown(description='Petal Width (cm)#:', options=('0.2', '0.4', '0.6', '0.8', '1.0', '1.2', '1.4', '1.6', '1…"
            ]
          },
          "metadata": {
            "tags": []
          }
        },
        {
          "output_type": "display_data",
          "data": {
            "application/vnd.jupyter.widget-view+json": {
              "model_id": "0308b908b87c47a396e78c79d80c45f3",
              "version_minor": 0,
              "version_major": 2
            },
            "text/plain": [
              "FloatSlider(value=1.5, description='Sepal Length (cm):', max=6.0, readout_format='.1f')"
            ]
          },
          "metadata": {
            "tags": []
          }
        },
        {
          "output_type": "display_data",
          "data": {
            "application/vnd.jupyter.widget-view+json": {
              "model_id": "3c805a0d14374b6d84ac7fc3c730d18a",
              "version_minor": 0,
              "version_major": 2
            },
            "text/plain": [
              "FloatSlider(value=0.5, description='Sepal Width (cm):', max=3.0, readout_format='.1f')"
            ]
          },
          "metadata": {
            "tags": []
          }
        }
      ]
    },
    {
      "cell_type": "code",
      "metadata": {
        "colab": {
          "base_uri": "https://localhost:8080/"
        },
        "id": "CBWyuuU09MFr",
        "outputId": "32a90cee-1bda-4c1c-d4d0-e75b20daa7ef"
      },
      "source": [
        "# Packaging Input for ML-Model Evaluation\n",
        "temp_df_row = pd.DataFrame([[sepal_length.value, sepal_width.value, petal_length.value, petal_width.value]])\n",
        "temp_pred = model.predict(temp_df_row)\n",
        "\n",
        "result = 'setosa'\n",
        "if round(temp_pred[0]) == 0:\n",
        "  result = 'setosa'\n",
        "elif round(temp_pred[0]) == 1:\n",
        "  result = 'versicolor'\n",
        "elif round(temp_pred[0]) == 2:\n",
        "  result = 'virginica'\n",
        "else:\n",
        "  result = 'UNKNOWN'\n",
        "\n",
        "print('The resultant type of Iris flower is: ', result)"
      ],
      "execution_count": null,
      "outputs": [
        {
          "output_type": "stream",
          "text": [
            "The resultant type of Iris flower is:  versicolor\n"
          ],
          "name": "stdout"
        }
      ]
    },
    {
      "cell_type": "code",
      "metadata": {
        "id": "qGgt03qAynST"
      },
      "source": [
        "!cat ./sample_data/README.md ./sample_data/anscombe.json > bobo.txt"
      ],
      "execution_count": null,
      "outputs": []
    },
    {
      "cell_type": "code",
      "metadata": {
        "colab": {
          "base_uri": "https://localhost:8080/"
        },
        "id": "un3wg6gnxSiz",
        "outputId": "52d2bcf6-1389-49e2-fa99-8f48b6c4479c"
      },
      "source": [
        "!cat bobo.txt"
      ],
      "execution_count": null,
      "outputs": [
        {
          "output_type": "stream",
          "text": [
            "This directory includes a few sample datasets to get you started.\n",
            "\n",
            "*   `california_housing_data*.csv` is California housing data from the 1990 US\n",
            "    Census; more information is available at:\n",
            "    https://developers.google.com/machine-learning/crash-course/california-housing-data-description\n",
            "\n",
            "*   `mnist_*.csv` is a small sample of the\n",
            "    [MNIST database](https://en.wikipedia.org/wiki/MNIST_database), which is\n",
            "    described at: http://yann.lecun.com/exdb/mnist/\n",
            "\n",
            "*   `anscombe.json` contains a copy of\n",
            "    [Anscombe's quartet](https://en.wikipedia.org/wiki/Anscombe%27s_quartet); it\n",
            "    was originally described in\n",
            "\n",
            "    Anscombe, F. J. (1973). 'Graphs in Statistical Analysis'. American\n",
            "    Statistician. 27 (1): 17-21. JSTOR 2682899.\n",
            "\n",
            "    and our copy was prepared by the\n",
            "    [vega_datasets library](https://github.com/altair-viz/vega_datasets/blob/4f67bdaad10f45e3549984e17e1b3088c731503d/vega_datasets/_data/anscombe.json).\n",
            "[\n",
            "  {\"Series\":\"I\", \"X\":10.0, \"Y\":8.04},\n",
            "  {\"Series\":\"I\", \"X\":8.0, \"Y\":6.95},\n",
            "  {\"Series\":\"I\", \"X\":13.0, \"Y\":7.58},\n",
            "  {\"Series\":\"I\", \"X\":9.0, \"Y\":8.81},\n",
            "  {\"Series\":\"I\", \"X\":11.0, \"Y\":8.33},\n",
            "  {\"Series\":\"I\", \"X\":14.0, \"Y\":9.96},\n",
            "  {\"Series\":\"I\", \"X\":6.0, \"Y\":7.24},\n",
            "  {\"Series\":\"I\", \"X\":4.0, \"Y\":4.26},\n",
            "  {\"Series\":\"I\", \"X\":12.0, \"Y\":10.84},\n",
            "  {\"Series\":\"I\", \"X\":7.0, \"Y\":4.81},\n",
            "  {\"Series\":\"I\", \"X\":5.0, \"Y\":5.68},\n",
            "\n",
            "  {\"Series\":\"II\", \"X\":10.0, \"Y\":9.14},\n",
            "  {\"Series\":\"II\", \"X\":8.0, \"Y\":8.14},\n",
            "  {\"Series\":\"II\", \"X\":13.0, \"Y\":8.74},\n",
            "  {\"Series\":\"II\", \"X\":9.0, \"Y\":8.77},\n",
            "  {\"Series\":\"II\", \"X\":11.0, \"Y\":9.26},\n",
            "  {\"Series\":\"II\", \"X\":14.0, \"Y\":8.10},\n",
            "  {\"Series\":\"II\", \"X\":6.0, \"Y\":6.13},\n",
            "  {\"Series\":\"II\", \"X\":4.0, \"Y\":3.10},\n",
            "  {\"Series\":\"II\", \"X\":12.0, \"Y\":9.13},\n",
            "  {\"Series\":\"II\", \"X\":7.0, \"Y\":7.26},\n",
            "  {\"Series\":\"II\", \"X\":5.0, \"Y\":4.74},\n",
            "\n",
            "  {\"Series\":\"III\", \"X\":10.0, \"Y\":7.46},\n",
            "  {\"Series\":\"III\", \"X\":8.0, \"Y\":6.77},\n",
            "  {\"Series\":\"III\", \"X\":13.0, \"Y\":12.74},\n",
            "  {\"Series\":\"III\", \"X\":9.0, \"Y\":7.11},\n",
            "  {\"Series\":\"III\", \"X\":11.0, \"Y\":7.81},\n",
            "  {\"Series\":\"III\", \"X\":14.0, \"Y\":8.84},\n",
            "  {\"Series\":\"III\", \"X\":6.0, \"Y\":6.08},\n",
            "  {\"Series\":\"III\", \"X\":4.0, \"Y\":5.39},\n",
            "  {\"Series\":\"III\", \"X\":12.0, \"Y\":8.15},\n",
            "  {\"Series\":\"III\", \"X\":7.0, \"Y\":6.42},\n",
            "  {\"Series\":\"III\", \"X\":5.0, \"Y\":5.73},\n",
            "\n",
            "  {\"Series\":\"IV\", \"X\":8.0, \"Y\":6.58},\n",
            "  {\"Series\":\"IV\", \"X\":8.0, \"Y\":5.76},\n",
            "  {\"Series\":\"IV\", \"X\":8.0, \"Y\":7.71},\n",
            "  {\"Series\":\"IV\", \"X\":8.0, \"Y\":8.84},\n",
            "  {\"Series\":\"IV\", \"X\":8.0, \"Y\":8.47},\n",
            "  {\"Series\":\"IV\", \"X\":8.0, \"Y\":7.04},\n",
            "  {\"Series\":\"IV\", \"X\":8.0, \"Y\":5.25},\n",
            "  {\"Series\":\"IV\", \"X\":19.0, \"Y\":12.50},\n",
            "  {\"Series\":\"IV\", \"X\":8.0, \"Y\":5.56},\n",
            "  {\"Series\":\"IV\", \"X\":8.0, \"Y\":7.91},\n",
            "  {\"Series\":\"IV\", \"X\":8.0, \"Y\":6.89}\n",
            "]\n"
          ],
          "name": "stdout"
        }
      ]
    },
    {
      "cell_type": "code",
      "metadata": {
        "colab": {
          "base_uri": "https://localhost:8080/"
        },
        "id": "lSC0GzF5zigz",
        "outputId": "411d3a92-40dd-4f2c-edb4-e4e31aeb7f97"
      },
      "source": [
        "!pwd"
      ],
      "execution_count": null,
      "outputs": [
        {
          "output_type": "stream",
          "text": [
            "/content\n"
          ],
          "name": "stdout"
        }
      ]
    },
    {
      "cell_type": "code",
      "metadata": {
        "id": "ArI3x15MxbFj"
      },
      "source": [
        "!cd sample_data/"
      ],
      "execution_count": null,
      "outputs": []
    },
    {
      "cell_type": "code",
      "metadata": {
        "colab": {
          "base_uri": "https://localhost:8080/"
        },
        "id": "IhPXcitj4KfO",
        "outputId": "76d83829-3626-4d82-f93e-f8d13622719b"
      },
      "source": [
        "!ls"
      ],
      "execution_count": null,
      "outputs": [
        {
          "output_type": "stream",
          "text": [
            "bobo.txt  sample_data\n"
          ],
          "name": "stdout"
        }
      ]
    },
    {
      "cell_type": "code",
      "metadata": {
        "id": "CeGliob33aV0"
      },
      "source": [
        "exit"
      ],
      "execution_count": null,
      "outputs": []
    },
    {
      "cell_type": "code",
      "metadata": {
        "colab": {
          "base_uri": "https://localhost:8080/"
        },
        "id": "9-LlnFfy3dqM",
        "outputId": "cdbca3de-ca69-4ccd-8e33-6f25c60aea32"
      },
      "source": [
        "%history"
      ],
      "execution_count": null,
      "outputs": [
        {
          "output_type": "stream",
          "text": [
            "!ls\n",
            "!exit\n",
            "!exit\n",
            "history\n",
            "history\n",
            "history\n",
            "!clear\n",
            "!history\n",
            "!history\n",
            "!history\n",
            "!history\n",
            "!history\n",
            "!history\n",
            "!history\n",
            "!history\n",
            "!history\n",
            "!history\n",
            "%history\n",
            "history\n",
            "!history\n",
            "%history\n"
          ],
          "name": "stdout"
        }
      ]
    },
    {
      "cell_type": "code",
      "metadata": {
        "colab": {
          "base_uri": "https://localhost:8080/"
        },
        "id": "dpyf38O03f3s",
        "outputId": "b688f93f-3915-4570-da74-e397dd254a44"
      },
      "source": [
        "!clear"
      ],
      "execution_count": null,
      "outputs": [
        {
          "output_type": "stream",
          "text": [
            "\u001b[H\u001b[2J"
          ],
          "name": "stdout"
        }
      ]
    },
    {
      "cell_type": "code",
      "metadata": {
        "id": "ON-Tawhh4Yd9"
      },
      "source": [
        "!mkdir newFolder"
      ],
      "execution_count": null,
      "outputs": []
    },
    {
      "cell_type": "code",
      "metadata": {
        "id": "4V8Y0Mg_oaoh"
      },
      "source": [
        "!ls newFolder/"
      ],
      "execution_count": null,
      "outputs": []
    },
    {
      "cell_type": "code",
      "metadata": {
        "id": "TbGeN0_zt5xD"
      },
      "source": [
        "!cp sample_data/README.md newFolder/"
      ],
      "execution_count": null,
      "outputs": []
    },
    {
      "cell_type": "code",
      "metadata": {
        "colab": {
          "base_uri": "https://localhost:8080/"
        },
        "id": "MN1lju6zuA2S",
        "outputId": "91d1d47c-f9aa-494f-f854-b7c02aa3cc1f"
      },
      "source": [
        "!ls newFolder/"
      ],
      "execution_count": null,
      "outputs": [
        {
          "output_type": "stream",
          "text": [
            "README.md\n"
          ],
          "name": "stdout"
        }
      ]
    },
    {
      "cell_type": "code",
      "metadata": {
        "id": "OvIkCACy3OXt"
      },
      "source": [
        "!rm newFolder/README.md"
      ],
      "execution_count": null,
      "outputs": []
    },
    {
      "cell_type": "code",
      "metadata": {
        "colab": {
          "base_uri": "https://localhost:8080/"
        },
        "id": "OifLnFCt3-YE",
        "outputId": "bfdb6321-43ff-401c-c608-62bcdf7168ae"
      },
      "source": [
        "!ls newFolder/"
      ],
      "execution_count": null,
      "outputs": [
        {
          "output_type": "stream",
          "text": [
            "mnist_test.csv\n"
          ],
          "name": "stdout"
        }
      ]
    },
    {
      "cell_type": "code",
      "metadata": {
        "id": "-LEanM_sv4rD",
        "colab": {
          "base_uri": "https://localhost:8080/"
        },
        "outputId": "102b17a5-f8c2-49ed-d5ae-c37d63626f28"
      },
      "source": [
        "!mv sample_data/mnist_test.csv newFolder/"
      ],
      "execution_count": null,
      "outputs": [
        {
          "output_type": "stream",
          "text": [
            "mv: cannot stat 'sample_data/mnist_test.csv': No such file or directory\n"
          ],
          "name": "stdout"
        }
      ]
    },
    {
      "cell_type": "code",
      "metadata": {
        "colab": {
          "base_uri": "https://localhost:8080/"
        },
        "id": "SLlcRWD04JYb",
        "outputId": "3435bbf7-f604-4f35-d38b-c1771954d364"
      },
      "source": [
        "!rmdir newFolder"
      ],
      "execution_count": null,
      "outputs": [
        {
          "output_type": "stream",
          "text": [
            "rmdir: failed to remove 'newFolder': Directory not empty\n"
          ],
          "name": "stdout"
        }
      ]
    },
    {
      "cell_type": "code",
      "metadata": {
        "id": "RVwnJjgd4_hl"
      },
      "source": [
        "!rm -r newFolder"
      ],
      "execution_count": null,
      "outputs": []
    },
    {
      "cell_type": "code",
      "metadata": {
        "colab": {
          "base_uri": "https://localhost:8080/"
        },
        "id": "RgIwjTgM5C8d",
        "outputId": "e6621c29-ff93-48d7-a591-9ce40a5576e8"
      },
      "source": [
        "!ls newFolder/"
      ],
      "execution_count": null,
      "outputs": [
        {
          "output_type": "stream",
          "text": [
            "ls: cannot access 'newFolder/': No such file or directory\n"
          ],
          "name": "stdout"
        }
      ]
    },
    {
      "cell_type": "code",
      "metadata": {
        "colab": {
          "base_uri": "https://localhost:8080/"
        },
        "id": "yMRj1SdL5q-E",
        "outputId": "f038a3c9-d5d4-4586-eb76-030fdd1b02db"
      },
      "source": [
        "!man ls"
      ],
      "execution_count": null,
      "outputs": [
        {
          "output_type": "stream",
          "text": [
            "LS(1POSIX)                 POSIX Programmer's Manual                LS(1POSIX)\n",
            "\n",
            "P\bPR\bRO\bOL\bLO\bOG\bG\n",
            "       This  manual  page is part of the POSIX Programmer's Manual.  The Linux\n",
            "       implementation of this interface may differ (consult the  corresponding\n",
            "       Linux  manual page for details of Linux behavior), or the interface may\n",
            "       not be implemented on Linux.\n",
            "\n",
            "N\bNA\bAM\bME\bE\n",
            "       ls — list directory contents\n",
            "\n",
            "S\bSY\bYN\bNO\bOP\bPS\bSI\bIS\bS\n",
            "       ls [\b[−ikqrs]\b] [\b[−glno]\b] [\b[−A|−a]\b] [\b[−C|−m|−x|−1]\b] \\\n",
            "           [\b[−F|−p]\b] [\b[−H|−L]\b] [\b[−R|−d]\b] [\b[−S|−f|−t]\b] [\b[−c|−u]\b] [\b[_\bf_\bi_\bl_\be...]\b]\n",
            "\n",
            "D\bDE\bES\bSC\bCR\bRI\bIP\bPT\bTI\bIO\bON\bN\n",
            "       For each operand that names a file of a type other  than  directory  or\n",
            "       symbolic  link  to  a directory, _\bl_\bs shall write the name of the file as\n",
            "       well as any requested, associated information. For  each  operand  that\n",
            "       names  a file of type directory, _\bl_\bs shall write the names of files con‐\n",
            "       tained within the directory as well as any requested, associated infor‐\n",
            "       mation.  Filenames  beginning with a <period> ('\b'.\b.'\b')  and any associated\n",
            "       information shall not be written out unless explicitly referenced,  the\n",
            "       −\b−A\bA  or  −\b−a\ba  option  is supplied, or an implementation-defined condition\n",
            "       causes them to be written. If one or more of the −\b−d\bd, −\b−F\bF, or −\b−l\bl  options\n",
            "       are  specified,  and neither the −\b−H\bH nor the −\b−L\bL option is specified, for\n",
            "       each operand that names a file of type symbolic link to a directory, _\bl_\bs\n",
            "       shall  write  the name of the file as well as any requested, associated\n",
            "       information. If none of the −\b−d\bd, −\b−F\bF, or −\b−l\bl options are specified, or the\n",
            "       −\b−H\bH  or  −\b−L\bL options are specified, for each operand that names a file of\n",
            "       type symbolic link to a directory, _\bl_\bs shall write the  names  of  files\n",
            "       contained  within  the  directory  as well as any requested, associated\n",
            "       information. In each case where the names of files contained  within  a\n",
            "       directory  are  written,  if  the directory contains any symbolic links\n",
            "       then _\bl_\bs shall evaluate the file information and file type to  be  those\n",
            "       of the symbolic link itself, unless the −\b−L\bL option is specified.\n",
            "\n",
            "       If no operands are specified, _\bl_\bs shall behave as if a single operand of\n",
            "       dot ('\b'.\b.'\b')  had been specified. If more than one operand  is  specified,\n",
            "       _\bl_\bs  shall  write  non-directory operands first; it shall sort directory\n",
            "       and  non-directory  operands  separately  according  to  the  collating\n",
            "       sequence in the current locale.\n",
            "\n",
            "       The  _\bl_\bs utility shall detect infinite loops; that is, entering a previ‐\n",
            "       ously visited directory that is an ancestor of the  last  file  encoun‐\n",
            "       tered.   When  it detects an infinite loop, _\bl_\bs shall write a diagnostic\n",
            "       message to standard error and shall either recover its position in  the\n",
            "       hierarchy or terminate.\n",
            "\n",
            "O\bOP\bPT\bTI\bIO\bON\bNS\bS\n",
            "       The  _\bl_\bs  utility  shall  conform  to  the  Base  Definitions  volume of\n",
            "       POSIX.1‐2008, _\bS_\be_\bc_\bt_\bi_\bo_\bn _\b1_\b2_\b._\b2, _\bU_\bt_\bi_\bl_\bi_\bt_\by _\bS_\by_\bn_\bt_\ba_\bx _\bG_\bu_\bi_\bd_\be_\bl_\bi_\bn_\be_\bs.\n",
            "\n",
            "       The following options shall be supported:\n",
            "\n",
            "       −\b−A\bA        Write out all directory entries, including those whose  names\n",
            "                 begin  with  a  <period> ('\b'.\b.'\b')  but excluding the entries dot\n",
            "                 and dot-dot (if they exist).\n",
            "\n",
            "       −\b−C\bC        Write multi-text-column output with entries sorted  down  the\n",
            "                 columns,  according  to the collating sequence. The number of\n",
            "                 text columns and the column separator characters are unspeci‐\n",
            "                 fied,  but  should  be  adapted  to  the nature of the output\n",
            "                 device. This option disables long format output.\n",
            "\n",
            "       −\b−F\bF        Do not follow symbolic links named as operands unless the  −\b−H\bH\n",
            "                 or  −\b−L\bL  options  are specified. Write a <slash> ('\b'/\b/'\b') immedi‐\n",
            "                 ately after each pathname that is a directory, an  <asterisk>\n",
            "                 ('\b'*\b*'\b')  after each that is executable, a <vertical-line> ('\b'|\b|'\b')\n",
            "                 after each that is a FIFO, and an at-sign  ('\b'@\b@'\b')  after  each\n",
            "                 that  is a symbolic link. For other file types, other symbols\n",
            "                 may be written.\n",
            "\n",
            "       −\b−H\bH        Evaluate the file information  and  file  type  for  symbolic\n",
            "                 links  specified  on the command line to be those of the file\n",
            "                 referenced by the link, and not the link itself; however,  _\bl_\bs\n",
            "                 shall write the name of the link itself and not the file ref‐\n",
            "                 erenced by the link.\n",
            "\n",
            "       −\b−L\bL        Evaluate the file information and file type for all  symbolic\n",
            "                 links  (whether named on the command line or encountered in a\n",
            "                 file hierarchy) to be those of the  file  referenced  by  the\n",
            "                 link,  and  not  the link itself; however, _\bl_\bs shall write the\n",
            "                 name of the link itself and not the file  referenced  by  the\n",
            "                 link. When −\b−L\bL is used with −\b−l\bl, write the contents of symbolic\n",
            "                 links in the long format (see the STDOUT section).\n",
            "\n",
            "       −\b−R\bR        Recursively list subdirectories encountered. When a  symbolic\n",
            "                 link  to  a directory is encountered, the directory shall not\n",
            "                 be recursively listed unless the −\b−L\bL option is specified.  The\n",
            "                 use of −\b−R\bR with −\b−d\bd or −\b−f\bf produces unspecified results.\n",
            "\n",
            "       −\b−S\bS        Sort  with  the  primary  key  being file size (in decreasing\n",
            "                 order) and the secondary key being filename in the  collating\n",
            "                 sequence (in increasing order).\n",
            "\n",
            "       −\b−a\ba        Write  out all directory entries, including those whose names\n",
            "                 begin with a <period> ('\b'.\b.'\b').\n",
            "\n",
            "       −\b−c\bc        Use time of last modification of the file status  information\n",
            "                 (see   the   Base   Definitions   volume   of   POSIX.1‐2008,\n",
            "                 <\b<s\bsy\bys\bs_\b_s\bst\bta\bat\bt.\b.h\bh>\b>) instead of last modification of the file itself\n",
            "                 for sorting (−\b−t\bt) or writing (−\b−l\bl).\n",
            "\n",
            "       −\b−d\bd        Do  not follow symbolic links named as operands unless the −\b−H\bH\n",
            "                 or −\b−L\bL options are specified. Do not treat directories differ‐\n",
            "                 ently  than other types of files. The use of −\b−d\bd with −\b−R\bR or −\b−f\bf\n",
            "                 produces unspecified results.\n",
            "\n",
            "       −\b−f\bf        List the entries in directory  operands  in  the  order  they\n",
            "                 appear in the directory. The behavior for non-directory oper‐\n",
            "                 ands is unspecified. This option shall turn on −\b−a\ba.   When  −\b−f\bf\n",
            "                 is  specified,  any occurrences of the −\b−r\br, −\b−S\bS, and −\b−t\bt options\n",
            "                 shall be ignored and any occurrences of the −\b−A\bA, −\b−g\bg,  −\b−l\bl,  −\b−n\bn,\n",
            "                 −\b−o\bo,  and  −\b−s\bs options may be ignored. The use of −\b−f\bf with −\b−R\bR or\n",
            "                 −\b−d\bd produces unspecified results.\n",
            "\n",
            "       −\b−g\bg        Turn on the −\b−l\bl (ell) option, but disable writing  the  file's\n",
            "                 owner name or number.  Disable the −\b−C\bC, −\b−m\bm, and −\b−x\bx options.\n",
            "\n",
            "       −\b−i\bi        For  each  file,  write  the  file's  file serial number (see\n",
            "                 _\bs_\bt_\ba_\bt() in the System Interfaces volume of POSIX.1‐2008).\n",
            "\n",
            "       −\b−k\bk        Set the block size for the −\b−s\bs option  and  the  per-directory\n",
            "                 block  count  written  for the −\b−l\bl, −\b−n\bn, −\b−s\bs, −\b−g\bg, and −\b−o\bo options\n",
            "                 (see the STDOUT section) to 1024 bytes.\n",
            "\n",
            "       −\b−l\bl        (The letter ell.) Do not follow symbolic links named as oper‐\n",
            "                 ands  unless the −\b−H\bH or −\b−L\bL options are specified. Write out in\n",
            "                 long format (see the STDOUT section). Disable the −\b−C\bC, −\b−m\bm, and\n",
            "                 −\b−x\bx options.\n",
            "\n",
            "       −\b−m\bm        Stream  output  format; list pathnames across the page, sepa‐\n",
            "                 rated by a <comma> character followed by a <space> character.\n",
            "                 Use  a  <newline>  character as the list terminator and after\n",
            "                 the separator sequence when there is not room on a  line  for\n",
            "                 the next list entry. This option disables long format output.\n",
            "\n",
            "       −\b−n\bn        Turn  on  the  −\b−l\bl  (ell)  option, but when writing the file's\n",
            "                 owner or group, write the file's numeric UID  or  GID  rather\n",
            "                 than  the  user  or group name, respectively. Disable the −\b−C\bC,\n",
            "                 −\b−m\bm, and −\b−x\bx options.\n",
            "\n",
            "       −\b−o\bo        Turn on the −\b−l\bl (ell) option, but disable writing  the  file's\n",
            "                 group name or number.  Disable the −\b−C\bC, −\b−m\bm, and −\b−x\bx options.\n",
            "\n",
            "       −\b−p\bp        Write  a  <slash> ('\b'/\b/'\b') after each filename if that file is a\n",
            "                 directory.\n",
            "\n",
            "       −\b−q\bq        Force each instance of non-printable filename characters  and\n",
            "                 <tab>  characters  to be written as the <question-mark> ('\b'?\b?'\b')\n",
            "                 character. Implementations may provide this option by default\n",
            "                 if the output is to a terminal device.\n",
            "\n",
            "       −\b−r\br        Reverse  the  order  of  the  sort  to  get reverse collating\n",
            "                 sequence oldest first, or smallest file size first  depending\n",
            "                 on the other options given.\n",
            "\n",
            "       −\b−s\bs        Indicate  the  total number of file system blocks consumed by\n",
            "                 each file displayed. If the −\b−k\bk option is also specified,  the\n",
            "                 block  size shall be 1024 bytes; otherwise, the block size is\n",
            "                 implementation-defined.\n",
            "\n",
            "       −\b−t\bt        Sort with the primary key being time modified (most  recently\n",
            "                 modified  first)  and the secondary key being filename in the\n",
            "                 collating sequence.  For a symbolic link, the  time  used  as\n",
            "                 the  sort  key is that of the symbolic link itself, unless _\bl_\bs\n",
            "                 is evaluating its file information to be  that  of  the  file\n",
            "                 referenced by the link (see the −\b−H\bH and −\b−L\bL options).\n",
            "\n",
            "       −\b−u\bu        Use  time  of last access (see the Base Definitions volume of\n",
            "                 POSIX.1‐2008, <\b<s\bsy\bys\bs_\b_s\bst\bta\bat\bt.\b.h\bh>\b>) instead of last  modification  of\n",
            "                 the file for sorting (−\b−t\bt) or writing (−\b−l\bl).\n",
            "\n",
            "       −\b−x\bx        The  same  as −\b−C\bC, except that the multi-text-column output is\n",
            "                 produced with entries sorted across, rather  than  down,  the\n",
            "                 columns. This option disables long format output.\n",
            "\n",
            "       −\b−1\b1        (The  numeric  digit  one.)  Force output to be one entry per\n",
            "                 line.  This option does not disable long format output. (Long\n",
            "                 format  output  is  enabled  by −\b−g\bg, −\b−l\bl (ell), −\b−n\bn, and −\b−o\bo; and\n",
            "                 disabled by −\b−C\bC, −\b−m\bm, and −\b−x\bx.)\n",
            "\n",
            "       If an option that enables long format output (−\b−g\bg, −\b−l\bl (ell), −\b−n\bn, and  −\b−o\bo\n",
            "       is  given  with an option that disables long format output (−\b−C\bC, −\b−m\bm, and\n",
            "       −\b−x\bx), this shall not be considered an error. The last of  these  options\n",
            "       specified shall determine whether long format output is written.\n",
            "\n",
            "       If  −\b−R\bR,  −\b−d\bd, or −\b−f\bf are specified, the results of specifying these mutu‐\n",
            "       ally-exclusive options are  specified  by  the  descriptions  of  these\n",
            "       options  above.  If  more than one of any of the other options shown in\n",
            "       the SYNOPSIS section in mutually-exclusive sets are given,  this  shall\n",
            "       not be considered an error; the last option specified in each set shall\n",
            "       determine the output.\n",
            "\n",
            "       Note that if −\b−t\bt is specified, −\b−c\bc and −\b−u\bu are not only mutually-exclusive\n",
            "       with  each  other, they are also mutually-exclusive with −\b−S\bS when deter‐\n",
            "       mining sort order. But even if −\b−S\bS is specified after all occurrences of\n",
            "       −\b−c\bc,  −\b−t\bt,  and  −\b−u\bu,  the  last  use of −\b−c\bc or −\b−u\bu determines the timestamp\n",
            "       printed when producing long format output.\n",
            "\n",
            "O\bOP\bPE\bER\bRA\bAN\bND\bDS\bS\n",
            "       The following operand shall be supported:\n",
            "\n",
            "       _\bf_\bi_\bl_\be      A pathname of a file to be written. If the file specified  is\n",
            "                 not  found,  a diagnostic message shall be output on standard\n",
            "                 error.\n",
            "\n",
            "S\bST\bTD\bDI\bIN\bN\n",
            "       Not used.\n",
            "\n",
            "I\bIN\bNP\bPU\bUT\bT F\bFI\bIL\bLE\bES\bS\n",
            "       None.\n",
            "\n",
            "E\bEN\bNV\bVI\bIR\bRO\bON\bNM\bME\bEN\bNT\bT V\bVA\bAR\bRI\bIA\bAB\bBL\bLE\bES\bS\n",
            "       The following environment variables shall affect the execution of _\bl_\bs:\n",
            "\n",
            "       _\bC_\bO_\bL_\bU_\bM_\bN_\bS   Determine the user's  preferred  column  position  width  for\n",
            "                 writing  multiple  text-column  output. If this variable con‐\n",
            "                 tains a string representing a decimal integer, the _\bl_\bs utility\n",
            "                 shall  calculate how many pathname text columns to write (see\n",
            "                 −\b−C\bC) based on the width provided. If _\bC_\bO_\bL_\bU_\bM_\bN_\bS  is  not  set  or\n",
            "                 invalid, an implementation-defined number of column positions\n",
            "                 shall be assumed, based on the implementation's knowledge  of\n",
            "                 the output device. The column width chosen to write the names\n",
            "                 of files in any given directory shall be constant.  Filenames\n",
            "                 shall  not  be truncated to fit into the multiple text-column\n",
            "                 output.\n",
            "\n",
            "       _\bL_\bA_\bN_\bG      Provide a default value for  the  internationalization  vari‐\n",
            "                 ables  that are unset or null. (See the Base Definitions vol‐\n",
            "                 ume of POSIX.1‐2008, _\bS_\be_\bc_\bt_\bi_\bo_\bn _\b8_\b._\b2, _\bI_\bn_\bt_\be_\br_\bn_\ba_\bt_\bi_\bo_\bn_\ba_\bl_\bi_\bz_\ba_\bt_\bi_\bo_\bn  _\bV_\ba_\br_\bi_\b‐\n",
            "                 _\ba_\bb_\bl_\be_\bs  for  the  precedence of internationalization variables\n",
            "                 used to determine the values of locale categories.)\n",
            "\n",
            "       _\bL_\bC_\b__\bA_\bL_\bL    If set to a non-empty string value, override  the  values  of\n",
            "                 all the other internationalization variables.\n",
            "\n",
            "       _\bL_\bC_\b__\bC_\bO_\bL_\bL_\bA_\bT_\bE\n",
            "                 Determine  the  locale for character collation information in\n",
            "                 determining the pathname collation sequence.\n",
            "\n",
            "       _\bL_\bC_\b__\bC_\bT_\bY_\bP_\bE  Determine the locale for the interpretation of  sequences  of\n",
            "                 bytes of text data as characters (for example, single-byte as\n",
            "                 opposed to multi-byte  characters  in  arguments)  and  which\n",
            "                 characters are defined as printable (character class p\bpr\bri\bin\bnt\bt).\n",
            "\n",
            "       _\bL_\bC_\b__\bM_\bE_\bS_\bS_\bA_\bG_\bE_\bS\n",
            "                 Determine the locale that should be used to affect the format\n",
            "                 and contents  of  diagnostic  messages  written  to  standard\n",
            "                 error.\n",
            "\n",
            "       _\bL_\bC_\b__\bT_\bI_\bM_\bE   Determine  the  format and contents for date and time strings\n",
            "                 written by _\bl_\bs.\n",
            "\n",
            "       _\bN_\bL_\bS_\bP_\bA_\bT_\bH   Determine the location of message catalogs for the processing\n",
            "                 of _\bL_\bC_\b__\bM_\bE_\bS_\bS_\bA_\bG_\bE_\bS.\n",
            "\n",
            "       _\bT_\bZ        Determine  the  timezone for date and time strings written by\n",
            "                 _\bl_\bs.  If _\bT_\bZ is unset or null, an unspecified default  timezone\n",
            "                 shall be used.\n",
            "\n",
            "A\bAS\bSY\bYN\bNC\bCH\bHR\bRO\bON\bNO\bOU\bUS\bS E\bEV\bVE\bEN\bNT\bTS\bS\n",
            "       Default.\n",
            "\n",
            "S\bST\bTD\bDO\bOU\bUT\bT\n",
            "       The default format shall be to list one entry per line to standard out‐\n",
            "       put; the exceptions are to terminals or when one of the −\b−C\bC, −\b−m\bm,  or  −\b−x\bx\n",
            "       options  is  specified.  If  the output is to a terminal, the format is\n",
            "       implementation-defined.\n",
            "\n",
            "       When −\b−m\bm is specified, the format used for the last element of the  list\n",
            "       shall be:\n",
            "\n",
            "           \"\b\"%\b%s\bs\\\b\\n\bn\"\b\",\b, <\b<_\bf_\bi_\bl_\be_\bn_\ba_\bm_\be>\n",
            "\n",
            "       The format used for each other element of the list shall be:\n",
            "\n",
            "           \"\b\"%\b%s\bs,\b,%\b%s\bs\"\b\",\b, <\b<_\bf_\bi_\bl_\be_\bn_\ba_\bm_\be>, <_\bs_\be_\bp_\ba_\br_\ba_\bt_\bo_\br>\n",
            "\n",
            "       where,  if  there  is  not room for the next element of the list to fit\n",
            "       within the current line length, <_\bs_\be_\bp_\ba_\br_\ba_\bt_\bo_\br> is a string  containing  an\n",
            "       optional  <space> character and a mandatory <newline> character; other‐\n",
            "       wise it is a single <space> character.\n",
            "\n",
            "       If the −\b−i\bi option is specified, the file's file serial number  (see  the\n",
            "       Base Definitions volume of POSIX.1‐2008, <\b<s\bsy\bys\bs_\b_s\bst\bta\bat\bt.\b.h\bh>\b>) shall be written\n",
            "       in the following format before any other output for  the  corresponding\n",
            "       entry:\n",
            "\n",
            "           %\b%u\bu \"\b\",\b, <\b<_\bf_\bi_\bl_\be _\bs_\be_\br_\bi_\ba_\bl _\bn_\bu_\bm_\bb_\be_\br>\n",
            "\n",
            "       If the −\b−l\bl option is specified, the following information shall be writ‐\n",
            "       ten for files other than character special and block special files:\n",
            "\n",
            "           \"\b\"%\b%s\bs %\b%u\bu %\b%s\bs %\b%s\bs %\b%u\bu %\b%s\bs %\b%s\bs\\\b\\n\bn\"\b\",\b, <\b<_\bf_\bi_\bl_\be _\bm_\bo_\bd_\be>, <_\bn_\bu_\bm_\bb_\be_\br _\bo_\bf _\bl_\bi_\bn_\bk_\bs>,\n",
            "               <_\bo_\bw_\bn_\be_\br _\bn_\ba_\bm_\be>, <_\bg_\br_\bo_\bu_\bp _\bn_\ba_\bm_\be>, <_\bs_\bi_\bz_\be>, <_\bd_\ba_\bt_\be _\ba_\bn_\bd _\bt_\bi_\bm_\be>,\n",
            "               <_\bp_\ba_\bt_\bh_\bn_\ba_\bm_\be>\n",
            "\n",
            "       If the −\b−l\bl option is specified, the following information shall be writ‐\n",
            "       ten for character special and block special files:\n",
            "\n",
            "           \"\b\"%\b%s\bs %\b%u\bu %\b%s\bs %\b%s\bs %\b%s\bs %\b%s\bs %\b%s\bs\\\b\\n\bn\"\b\",\b, <\b<_\bf_\bi_\bl_\be _\bm_\bo_\bd_\be>, <_\bn_\bu_\bm_\bb_\be_\br _\bo_\bf _\bl_\bi_\bn_\bk_\bs>,\n",
            "               <_\bo_\bw_\bn_\be_\br _\bn_\ba_\bm_\be>, <_\bg_\br_\bo_\bu_\bp _\bn_\ba_\bm_\be>, <_\bd_\be_\bv_\bi_\bc_\be _\bi_\bn_\bf_\bo>, <_\bd_\ba_\bt_\be _\ba_\bn_\bd _\bt_\bi_\bm_\be>,\n",
            "               <_\bp_\ba_\bt_\bh_\bn_\ba_\bm_\be>\n",
            "\n",
            "       In  both cases if the file is a symbolic link and the −\b−L\bL option is also\n",
            "       specified, this information shall be for the  file  resolved  from  the\n",
            "       symbolic link, except that the <_\bp_\ba_\bt_\bh_\bn_\ba_\bm_\be> field shall contain the path‐\n",
            "       name of the symbolic link itself. If the file is a  symbolic  link  and\n",
            "       the  −\b−L\bL  option  is  not specified, this information shall be about the\n",
            "       link itself and the <_\bp_\ba_\bt_\bh_\bn_\ba_\bm_\be> field shall be of the form:\n",
            "\n",
            "           \"\b\"%\b%s\bs −\b−>\b> %\b%s\bs\"\b\",\b, <\b<_\bp_\ba_\bt_\bh_\bn_\ba_\bm_\be _\bo_\bf _\bl_\bi_\bn_\bk>, <_\bc_\bo_\bn_\bt_\be_\bn_\bt_\bs _\bo_\bf _\bl_\bi_\bn_\bk>\n",
            "\n",
            "       The −\b−n\bn, −\b−g\bg, and −\b−o\bo options use the same format as −\b−l\bl, but with  omitted\n",
            "       items and their associated <blank> characters. See the OPTIONS section.\n",
            "\n",
            "       In  both the preceding −\b−l\bl forms, if <_\bo_\bw_\bn_\be_\br _\bn_\ba_\bm_\be> or <_\bg_\br_\bo_\bu_\bp _\bn_\ba_\bm_\be> cannot\n",
            "       be determined, or if −\b−n\bn is given, they shall  be  replaced  with  their\n",
            "       associated numeric values using the format %\b%u\bu.\n",
            "\n",
            "       The <_\bs_\bi_\bz_\be> field shall contain the value that would be returned for the\n",
            "       file in the _\bs_\bt_\b__\bs_\bi_\bz_\be field of s\bst\btr\bru\buc\bct\bt s\bst\bta\bat\bt (see the Base Definitions vol‐\n",
            "       ume of POSIX.1‐2008, <\b<s\bsy\bys\bs_\b_s\bst\bta\bat\bt.\b.h\bh>\b>).  Note that for some file types this\n",
            "       value is unspecified.\n",
            "\n",
            "       The <_\bd_\be_\bv_\bi_\bc_\be _\bi_\bn_\bf_\bo> field shall contain  implementation-defined  informa‐\n",
            "       tion associated with the device in question.\n",
            "\n",
            "       The  <_\bd_\ba_\bt_\be _\ba_\bn_\bd _\bt_\bi_\bm_\be> field shall contain the appropriate date and time‐\n",
            "       stamp of when the file was last modified.  In  the  POSIX  locale,  the\n",
            "       field  shall be the equivalent of the output of the following _\bd_\ba_\bt_\be com‐\n",
            "       mand:\n",
            "\n",
            "           d\bda\bat\bte\be \"\b\"+\b+%\b%b\bb %\b%e\be %\b%H\bH:\b:%\b%M\bM\"\b\"\n",
            "\n",
            "       if the file has been modified in the last six months, or:\n",
            "\n",
            "           d\bda\bat\bte\be \"\b\"+\b+%\b%b\bb %\b%e\be %\b%Y\bY\"\b\"\n",
            "\n",
            "       (where two <space> characters are used between %\b%e\be and %\b%Y\bY) if  the  file\n",
            "       has  not  been  modified  in the last six months or if the modification\n",
            "       date is in the future, except that, in both cases, the final  <newline>\n",
            "       produced  by  _\bd_\ba_\bt_\be  shall not be included and the output shall be as if\n",
            "       the _\bd_\ba_\bt_\be command were executed at the time  of  the  last  modification\n",
            "       date  of the file rather than the current time. When the _\bL_\bC_\b__\bT_\bI_\bM_\bE locale\n",
            "       category is not set to the POSIX locale, a different format  and  order\n",
            "       of presentation of this field may be used.\n",
            "\n",
            "       If the pathname was specified as a _\bf_\bi_\bl_\be operand, it shall be written as\n",
            "       specified.\n",
            "\n",
            "       The file mode written under the −\b−l\bl, −\b−n\bn, −\b−g\bg, and −\b−o\bo options  shall  con‐\n",
            "       sist of the following format:\n",
            "\n",
            "           \"\b\"%\b%c\bc%\b%s\bs%\b%s\bs%\b%s\bs%\b%s\bs\"\b\",\b, <\b<_\be_\bn_\bt_\br_\by _\bt_\by_\bp_\be>, <_\bo_\bw_\bn_\be_\br _\bp_\be_\br_\bm_\bi_\bs_\bs_\bi_\bo_\bn_\bs>,\n",
            "               <_\bg_\br_\bo_\bu_\bp _\bp_\be_\br_\bm_\bi_\bs_\bs_\bi_\bo_\bn_\bs>, <_\bo_\bt_\bh_\be_\br _\bp_\be_\br_\bm_\bi_\bs_\bs_\bi_\bo_\bn_\bs>,\n",
            "               <_\bo_\bp_\bt_\bi_\bo_\bn_\ba_\bl _\ba_\bl_\bt_\be_\br_\bn_\ba_\bt_\be _\ba_\bc_\bc_\be_\bs_\bs _\bm_\be_\bt_\bh_\bo_\bd _\bf_\bl_\ba_\bg>\n",
            "\n",
            "       The  <_\bo_\bp_\bt_\bi_\bo_\bn_\ba_\bl _\ba_\bl_\bt_\be_\br_\bn_\ba_\bt_\be _\ba_\bc_\bc_\be_\bs_\bs _\bm_\be_\bt_\bh_\bo_\bd _\bf_\bl_\ba_\bg>  shall be the empty string\n",
            "       if there is no alternate or additional access control method associated\n",
            "       with  the  file;  otherwise,  it  shall be a string containing a single\n",
            "       printable character that is not a <blank>.\n",
            "\n",
            "       The <_\be_\bn_\bt_\br_\by _\bt_\by_\bp_\be> character shall describe the type of file, as follows:\n",
            "\n",
            "       d       Directory.\n",
            "\n",
            "       b       Block special file.\n",
            "\n",
            "       c       Character special file.\n",
            "\n",
            "       l (ell) Symbolic link.\n",
            "\n",
            "       p       FIFO.\n",
            "\n",
            "       −       Regular file.\n",
            "\n",
            "       Implementations may add other characters  to  this  list  to  represent\n",
            "       other implementation-defined file types.\n",
            "\n",
            "       The next three fields shall be three characters each:\n",
            "\n",
            "       <_\bo_\bw_\bn_\be_\br _\bp_\be_\br_\bm_\bi_\bs_\bs_\bi_\bo_\bn_\bs>\n",
            "             Permissions  for  the  file owner class (see the Base Definitions\n",
            "             volume of POSIX.1‐2008, _\bS_\be_\bc_\bt_\bi_\bo_\bn _\b4_\b._\b4, _\bF_\bi_\bl_\be _\bA_\bc_\bc_\be_\bs_\bs _\bP_\be_\br_\bm_\bi_\bs_\bs_\bi_\bo_\bn_\bs).\n",
            "\n",
            "       <_\bg_\br_\bo_\bu_\bp _\bp_\be_\br_\bm_\bi_\bs_\bs_\bi_\bo_\bn_\bs>\n",
            "             Permissions for the file group class.\n",
            "\n",
            "       <_\bo_\bt_\bh_\be_\br _\bp_\be_\br_\bm_\bi_\bs_\bs_\bi_\bo_\bn_\bs>\n",
            "             Permissions for the file other class.\n",
            "\n",
            "       Each field shall have three character positions:\n",
            "\n",
            "        1. If '\b'r\br'\b', the file is readable; if '\b'−\b−'\b', the file is not readable.\n",
            "\n",
            "        2. If '\b'w\bw'\b', the file is writable; if '\b'−\b−'\b', the file is not writable.\n",
            "\n",
            "        3. The first of the following that applies:\n",
            "\n",
            "           S     If in <_\bo_\bw_\bn_\be_\br _\bp_\be_\br_\bm_\bi_\bs_\bs_\bi_\bo_\bn_\bs>, the file  is  not  executable  and\n",
            "                 set-user-ID  mode is set. If in <_\bg_\br_\bo_\bu_\bp _\bp_\be_\br_\bm_\bi_\bs_\bs_\bi_\bo_\bn_\bs>, the file\n",
            "                 is not executable and set-group-ID mode is set.\n",
            "\n",
            "           s     If in <_\bo_\bw_\bn_\be_\br _\bp_\be_\br_\bm_\bi_\bs_\bs_\bi_\bo_\bn_\bs>, the file is  executable  and  set-\n",
            "                 user-ID  mode  is set. If in <_\bg_\br_\bo_\bu_\bp _\bp_\be_\br_\bm_\bi_\bs_\bs_\bi_\bo_\bn_\bs>, the file is\n",
            "                 executable and set-group-ID mode is set.\n",
            "\n",
            "           T     If in <_\bo_\bt_\bh_\be_\br _\bp_\be_\br_\bm_\bi_\bs_\bs_\bi_\bo_\bn_\bs> and the file is a directory, search\n",
            "                 permission is not granted to others, and the restricted dele‐\n",
            "                 tion flag is set.\n",
            "\n",
            "           t     If in <_\bo_\bt_\bh_\be_\br _\bp_\be_\br_\bm_\bi_\bs_\bs_\bi_\bo_\bn_\bs> and the file is a directory, search\n",
            "                 permission  is granted to others, and the restricted deletion\n",
            "                 flag is set.\n",
            "\n",
            "           x     The file is executable or the directory is searchable.\n",
            "\n",
            "           −     None of the attributes of '\b'S\bS'\b', '\b's\bs'\b', '\b'T\bT'\b', '\b't\bt'\b', or '\b'x\bx'\b' applies.\n",
            "\n",
            "           Implementations may add other characters to this list for the third\n",
            "           character  position.  Such  additions shall, however, be written in\n",
            "           lowercase if the file is executable or searchable, and in uppercase\n",
            "           if it is not.\n",
            "\n",
            "       If  any of the −\b−l\bl, −\b−n\bn, −\b−s\bs, −\b−g\bg, or −\b−o\bo options is specified, each list of\n",
            "       files within the directory shall be preceded by a status line  indicat‐\n",
            "       ing the number of file system blocks occupied by files in the directory\n",
            "       in 512-byte units if the −\b−k\bk option is not specified, or 1024-byte units\n",
            "       if  the  −\b−k\bk option is specified, rounded up to the next integral number\n",
            "       of units, if necessary. In the POSIX locale, the format shall be:\n",
            "\n",
            "           \"\b\"t\bto\bot\bta\bal\bl %\b%u\bu\\\b\\n\bn\"\b\",\b, <\b<_\bn_\bu_\bm_\bb_\be_\br _\bo_\bf _\bu_\bn_\bi_\bt_\bs _\bi_\bn _\bt_\bh_\be _\bd_\bi_\br_\be_\bc_\bt_\bo_\br_\by>\n",
            "\n",
            "       If more than one directory, or a combination of non-directory files and\n",
            "       directories  are written, either as a result of specifying multiple op‐\n",
            "       erands, or the −\b−R\bR option, each list of files within a  directory  shall\n",
            "       be preceded by:\n",
            "\n",
            "           \"\b\"\\\b\\n\bn%\b%s\bs:\b:\\\b\\n\bn\"\b\",\b, <\b<_\bd_\bi_\br_\be_\bc_\bt_\bo_\br_\by _\bn_\ba_\bm_\be>\n",
            "\n",
            "       If  this  string  is the first thing to be written, the first <newline>\n",
            "       shall not be written. This output shall precede the number of units  in\n",
            "       the directory.\n",
            "\n",
            "       If  the  −\b−s\bs option is given, each file shall be written with the number\n",
            "       of blocks used by the file. Along with −\b−C\bC, −\b−1\b1, −\b−m\bm, or  −\b−x\bx,  the  number\n",
            "       and  a <space> shall precede the filename; with −\b−l\bl, −\b−n\bn, −\b−g\bg, or −\b−o\bo, they\n",
            "       shall precede each line describing a file.\n",
            "\n",
            "S\bST\bTD\bDE\bER\bRR\bR\n",
            "       The standard error shall be used only for diagnostic messages.\n",
            "\n",
            "O\bOU\bUT\bTP\bPU\bUT\bT F\bFI\bIL\bLE\bES\bS\n",
            "       None.\n",
            "\n",
            "E\bEX\bXT\bTE\bEN\bND\bDE\bED\bD D\bDE\bES\bSC\bCR\bRI\bIP\bPT\bTI\bIO\bON\bN\n",
            "       None.\n",
            "\n",
            "E\bEX\bXI\bIT\bT S\bST\bTA\bAT\bTU\bUS\bS\n",
            "       The following exit values shall be returned:\n",
            "\n",
            "        0    Successful completion.\n",
            "\n",
            "       >0    An error occurred.\n",
            "\n",
            "C\bCO\bON\bNS\bSE\bEQ\bQU\bUE\bEN\bNC\bCE\bES\bS O\bOF\bF E\bER\bRR\bRO\bOR\bRS\bS\n",
            "       Default.\n",
            "\n",
            "       _\bT_\bh_\be _\bf_\bo_\bl_\bl_\bo_\bw_\bi_\bn_\bg _\bs_\be_\bc_\bt_\bi_\bo_\bn_\bs _\ba_\br_\be _\bi_\bn_\bf_\bo_\br_\bm_\ba_\bt_\bi_\bv_\be_\b.\n",
            "\n",
            "A\bAP\bPP\bPL\bLI\bIC\bCA\bAT\bTI\bIO\bON\bN U\bUS\bSA\bAG\bGE\bE\n",
            "       Many implementations use the  <equals-sign>  ('\b'=\b='\b')  to  denote  sockets\n",
            "       bound  to the file system for the −\b−F\bF option. Similarly, many historical\n",
            "       implementations use the '\b's\bs'\b' character to denote sockets  as  the  entry\n",
            "       type characters for the −\b−l\bl option.\n",
            "\n",
            "       It  is difficult for an application to use every part of the file modes\n",
            "       field of _\bl_\bs −\b−l\bl in a portable manner. Certain file types and  executable\n",
            "       bits  are not guaranteed to be exactly as shown, as implementations may\n",
            "       have extensions. Applications can use this field to pass directly to  a\n",
            "       user  printout or prompt, but actions based on its contents should gen‐\n",
            "       erally be deferred, instead, to the _\bt_\be_\bs_\bt utility.\n",
            "\n",
            "       The output of _\bl_\bs (with the −\b−l\bl and related options) contains information\n",
            "       that  logically  could  be used by utilities such as _\bc_\bh_\bm_\bo_\bd and _\bt_\bo_\bu_\bc_\bh to\n",
            "       restore files to a known state. However, this information is  presented\n",
            "       in  a format that cannot be used directly by those utilities or be eas‐\n",
            "       ily translated into a format that can be used.  A  character  has  been\n",
            "       added  to  the  end  of  the permissions string so that applications at\n",
            "       least have an indication that they may be working in an  area  they  do\n",
            "       not  understand instead of assuming that they can translate the permis‐\n",
            "       sions string into something  that  can  be  used.  Future  versions  or\n",
            "       related documents may define one or more specific characters to be used\n",
            "       based on different standard additional or  alternative  access  control\n",
            "       mechanisms.\n",
            "\n",
            "       As  with  many of the utilities that deal with filenames, the output of\n",
            "       _\bl_\bs for multiple files or in one of the long  listing  formats  must  be\n",
            "       used  carefully  on  systems where filenames can contain embedded white\n",
            "       space. Systems and system administrators should institute policies  and\n",
            "       user training to limit the use of such filenames.\n",
            "\n",
            "       The  number  of disk blocks occupied by the file that it reports varies\n",
            "       depending on underlying file system type, block  size  units  reported,\n",
            "       and the method of calculating the number of blocks. On some file system\n",
            "       types, the number is the actual number of blocks occupied by  the  file\n",
            "       (counting indirect blocks and ignoring holes in the file); on others it\n",
            "       is calculated based on the file size (usually making an  allowance  for\n",
            "       indirect blocks, but ignoring holes).\n",
            "\n",
            "E\bEX\bXA\bAM\bMP\bPL\bLE\bES\bS\n",
            "       An example of a small directory tree being fully listed with _\bl_\bs −\b−l\bla\baR\bRF\bF a\ba\n",
            "       in the POSIX locale:\n",
            "\n",
            "           t\bto\bot\bta\bal\bl 1\b11\b1\n",
            "           d\bdr\brw\bwx\bxr\br-\b-x\bxr\br-\b-x\bx   3\b3 f\bfo\box\bx      p\bpr\bro\bog\bg          6\b64\b4 J\bJu\bul\bl  4\b4 1\b12\b2:\b:0\b07\b7 .\b./\b/\n",
            "           d\bdr\brw\bwx\bxr\brw\bwx\bxr\brw\bwx\bx   4\b4 f\bfo\box\bx      p\bpr\bro\bog\bg        3\b32\b26\b64\b4 J\bJu\bul\bl  4\b4 1\b12\b2:\b:0\b09\b9 .\b..\b./\b/\n",
            "           d\bdr\brw\bwx\bxr\br-\b-x\bxr\br-\b-x\bx   2\b2 f\bfo\box\bx      p\bpr\bro\bog\bg          4\b48\b8 J\bJu\bul\bl  4\b4 1\b12\b2:\b:0\b07\b7 b\bb/\b/\n",
            "           -\b-r\brw\bwx\bxr\br-\b--\b-r\br-\b--\b-   1\b1 f\bfo\box\bx      p\bpr\bro\bog\bg         5\b57\b72\b2 J\bJu\bul\bl  4\b4 1\b12\b2:\b:0\b07\b7 f\bfo\boo\bo*\b*\n",
            "\n",
            "           a/b:\n",
            "           total 4\n",
            "           drwxr-xr-x   2 fox      prog          48 Jul  4 12:07 ./\n",
            "           drwxr-xr-x   3 fox      prog          64 Jul  4 12:07 ../\n",
            "           -rw-r--r--   1 fox      prog         700 Jul  4 12:07 bar\n",
            "\n",
            "R\bRA\bAT\bTI\bIO\bON\bNA\bAL\bLE\bE\n",
            "       Some historical implementations of the _\bl_\bs utility show all entries in a\n",
            "       directory  except  dot  and dot-dot when a superuser invokes _\bl_\bs without\n",
            "       specifying the −\b−a\ba option. When ``normal'' users invoke _\bl_\bs without spec‐\n",
            "       ifying  −\b−a\ba,  they should not see information about any files with names\n",
            "       beginning with a <period> unless they were named as _\bf_\bi_\bl_\be operands.\n",
            "\n",
            "       Implementations are expected to traverse arbitrary depths when process‐\n",
            "       ing the −\b−R\bR option. The only limitation on depth should be based on run‐\n",
            "       ning out of physical storage for keeping track of untraversed  directo‐\n",
            "       ries.\n",
            "\n",
            "       The  −\b−1\b1  (one)  option  was  historically  found in BSD and BSD-derived\n",
            "       implementations only. It is required in this volume of POSIX.1‐2008  so\n",
            "       that  conforming applications might ensure that output is one entry per\n",
            "       line, even if the output is to a terminal.\n",
            "\n",
            "       The −\b−S\bS option was added in Issue 7, but had been  provided  by  several\n",
            "       implementations  for  many years. The description given in the standard\n",
            "       documents historic practice, but does not match much of the  documenta‐\n",
            "       tion  that  described  its behavior. Historical documentation typically\n",
            "       described it as something like:\n",
            "\n",
            "       −\b−S\bS        Sort by size (largest size first) instead of by name. Special\n",
            "                 character devices (listed last) are sorted by name.\n",
            "\n",
            "       even though the file type was never considered when sorting the output.\n",
            "       Character special files do typically sort close to the end of the  list\n",
            "       because  their  file size on most implementations is zero. But they are\n",
            "       sorted alphabetically with any other files that happen to have the same\n",
            "       file size (zero), not sorted separately and added to the end.\n",
            "\n",
            "       This  volume  of  POSIX.1‐2008  is frequently silent about what happens\n",
            "       when mutually-exclusive options are specified. Except for −\b−R\bR,  −\b−d\bd,  and\n",
            "       −\b−f\bf,  the  _\bl_\bs  utility  is required to accept multiple options from each\n",
            "       mutually-exclusive option set without treating them as  errors  and  to\n",
            "       use  the  behavior specified by the last option given in each mutually-\n",
            "       exclusive set. Since _\bl_\bs is one of the  most  aliased  commands,  it  is\n",
            "       important  that the implementation perform intuitively. For example, if\n",
            "       the alias were:\n",
            "\n",
            "           a\bal\bli\bia\bas\bs l\bls\bs=\b=\"\b\"l\bls\bs −\b−C\bC\"\b\"\n",
            "\n",
            "       and the user  typed  _\bl_\bs  −\b−1\b1  (one),  single-text-column  output  should\n",
            "       result, not an error.\n",
            "\n",
            "       The  −\b−g\bg,  −\b−l\bl  (ell),  −\b−n\bn,  and  −\b−o\bo  options  are not mutually-exclusive\n",
            "       options. They all enable long format  output.  They  work  together  to\n",
            "       determine  whether  the  file's owner is written (no if −\b−g\bg is present),\n",
            "       file's group is written (no if −\b−o\bo is present), and if the file's  group\n",
            "       or  owner  is  written whether it is written as the name (default) or a\n",
            "       string representation of the UID or GID number (if −\b−n\bn is present).  The\n",
            "       −\b−C\bC,  −\b−m\bm,  −\b−x\bx, and −\b−1\b1 (one) are mutually-exclusive options and the first\n",
            "       three of these disable long format output. The −\b−1\b1 (one) option does not\n",
            "       directly  change  whether  or not long format output is enabled, but by\n",
            "       overriding −\b−C\bC, −\b−m\bm, and −\b−x\bx, it can re-enable long format output that had\n",
            "       been disabled by one of these options.\n",
            "\n",
            "       Earlier  versions  of  this standard did not describe the BSD −\b−A\bA option\n",
            "       (like −\b−a\ba, but dot and dot-dot are not written out). It has  been  added\n",
            "       due to widespread implementation.\n",
            "\n",
            "       Implementations may make −\b−q\bq the default for terminals to prevent trojan\n",
            "       horse attacks on terminals with special escape sequences.  This is  not\n",
            "       required because:\n",
            "\n",
            "        *  Some  control characters may be useful on some terminals; for exam‐\n",
            "           ple, a system might write them as \"\b\"\\\b\\0\b00\b01\b1\"\b\" or \"\b\"^\b^A\bA\"\b\".\n",
            "\n",
            "        *  Special behavior for terminals  is  not  relevant  to  applications\n",
            "           portability.\n",
            "\n",
            "       An    early    proposal    specified    that    the    <_\bo_\bp_\bt_\bi_\bo_\bn_\ba_\bl _\ba_\bl_\bt_\be_\br_\b‐\n",
            "       _\bn_\ba_\bt_\be _\ba_\bc_\bc_\be_\bs_\bs _\bm_\be_\bt_\bh_\bo_\bd _\bf_\bl_\ba_\bg> had to be '\b'+\b+'\b' if there was an alternate access\n",
            "       method  used  on the file or <space> if there was not. This was changed\n",
            "       to be <space> if there is not and a single printable character if there\n",
            "       is. This was done for three reasons:\n",
            "\n",
            "        1. There  are  historical  implementations using characters other than\n",
            "           '\b'+\b+'\b'.\n",
            "\n",
            "        2. There are implementations that vary this  character  used  in  that\n",
            "           position to distinguish between various alternate access methods in\n",
            "           use.\n",
            "\n",
            "        3. The standard developers did not want to preclude future  specifica‐\n",
            "           tions  that  might  need  a  way to specify more than one alternate\n",
            "           access method.\n",
            "\n",
            "       Nonetheless, implementations providing a single alternate access method\n",
            "       are encouraged to use '\b'+\b+'\b'.\n",
            "\n",
            "       Earlier  versions  of  this  standard did not have the −\b−k\bk option, which\n",
            "       meant that the −\b−s\bs option could not be used portably as its  block  size\n",
            "       was implementation-defined, and the units used to specify the number of\n",
            "       blocks occupied by files in a directory in an _\bl_\bs −\b−l\bl listing were  fixed\n",
            "       as  512-byte  units.  The −\b−k\bk option has been added to provide a way for\n",
            "       the −\b−s\bs option to be used portably, and for consistency it also  changes\n",
            "       the aforementioned units from 512-byte to 1024-byte.\n",
            "\n",
            "       The  <_\bd_\ba_\bt_\be _\ba_\bn_\bd _\bt_\bi_\bm_\be>  field  in the −\b−l\bl format is specified only for the\n",
            "       POSIX locale. As noted, the format can be different in  other  locales.\n",
            "       No   mechanism   for  defining  this  is  present  in  this  volume  of\n",
            "       POSIX.1‐2008, as the appropriate vehicle is a  messaging  system;  that\n",
            "       is, the format should be specified as a ``message''.\n",
            "\n",
            "F\bFU\bUT\bTU\bUR\bRE\bE D\bDI\bIR\bRE\bEC\bCT\bTI\bIO\bON\bNS\bS\n",
            "       Allowing  −\b−f\bf  to  ignore  the −\b−A\bA, −\b−g\bg, −\b−l\bl, −\b−n\bn, −\b−o\bo, and −\b−s\bs options may be\n",
            "       removed in a future version.\n",
            "\n",
            "S\bSE\bEE\bE A\bAL\bLS\bSO\bO\n",
            "       _\bc_\bh_\bm_\bo_\bd, _\bf_\bi_\bn_\bd\n",
            "\n",
            "       The Base Definitions volume of POSIX.1‐2008, _\bS_\be_\bc_\bt_\bi_\bo_\bn _\b4_\b._\b4,  _\bF_\bi_\bl_\be  _\bA_\bc_\bc_\be_\bs_\bs\n",
            "       _\bP_\be_\br_\bm_\bi_\bs_\bs_\bi_\bo_\bn_\bs,  _\bC_\bh_\ba_\bp_\bt_\be_\br  _\b8,  _\bE_\bn_\bv_\bi_\br_\bo_\bn_\bm_\be_\bn_\bt _\bV_\ba_\br_\bi_\ba_\bb_\bl_\be_\bs, _\bS_\be_\bc_\bt_\bi_\bo_\bn _\b1_\b2_\b._\b2, _\bU_\bt_\bi_\bl_\bi_\bt_\by\n",
            "       _\bS_\by_\bn_\bt_\ba_\bx _\bG_\bu_\bi_\bd_\be_\bl_\bi_\bn_\be_\bs, <\b<s\bsy\bys\bs_\b_s\bst\bta\bat\bt.\b.h\bh>\b>\n",
            "\n",
            "       The System Interfaces volume of POSIX.1‐2008, _\bf_\bs_\bt_\ba_\bt_\ba_\bt()\n",
            "\n",
            "C\bCO\bOP\bPY\bYR\bRI\bIG\bGH\bHT\bT\n",
            "       Portions of this text are reprinted and reproduced in  electronic  form\n",
            "       from IEEE Std 1003.1, 2013 Edition, Standard for Information Technology\n",
            "       -- Portable Operating System Interface (POSIX),  The  Open  Group  Base\n",
            "       Specifications Issue 7, Copyright (C) 2013 by the Institute of Electri‐\n",
            "       cal and Electronics Engineers,  Inc  and  The  Open  Group.   (This  is\n",
            "       POSIX.1-2008  with  the  2013  Technical Corrigendum 1 applied.) In the\n",
            "       event of any discrepancy between this version and the original IEEE and\n",
            "       The  Open Group Standard, the original IEEE and The Open Group Standard\n",
            "       is the referee document. The original Standard can be  obtained  online\n",
            "       at http://www.unix.org/online.html .\n",
            "\n",
            "       Any  typographical  or  formatting  errors that appear in this page are\n",
            "       most likely to have been introduced during the conversion of the source\n",
            "       files  to  man page format. To report such errors, see https://www.ker‐\n",
            "       nel.org/doc/man-pages/reporting_bugs.html .\n",
            "\n",
            "IEEE/The Open Group                  2013                           LS(1POSIX)\n"
          ],
          "name": "stdout"
        }
      ]
    },
    {
      "cell_type": "code",
      "metadata": {
        "colab": {
          "base_uri": "https://localhost:8080/"
        },
        "id": "B0u1xRMj6uL9",
        "outputId": "6255f3e4-3539-4c24-f450-0e6b7b85b561"
      },
      "source": [
        "!ls --help"
      ],
      "execution_count": null,
      "outputs": [
        {
          "output_type": "stream",
          "text": [
            "Usage: ls [OPTION]... [FILE]...\n",
            "List information about the FILEs (the current directory by default).\n",
            "Sort entries alphabetically if none of -cftuvSUX nor --sort is specified.\n",
            "\n",
            "Mandatory arguments to long options are mandatory for short options too.\n",
            "  -a, --all                  do not ignore entries starting with .\n",
            "  -A, --almost-all           do not list implied . and ..\n",
            "      --author               with -l, print the author of each file\n",
            "  -b, --escape               print C-style escapes for nongraphic characters\n",
            "      --block-size=SIZE      scale sizes by SIZE before printing them; e.g.,\n",
            "                               '--block-size=M' prints sizes in units of\n",
            "                               1,048,576 bytes; see SIZE format below\n",
            "  -B, --ignore-backups       do not list implied entries ending with ~\n",
            "  -c                         with -lt: sort by, and show, ctime (time of last\n",
            "                               modification of file status information);\n",
            "                               with -l: show ctime and sort by name;\n",
            "                               otherwise: sort by ctime, newest first\n",
            "  -C                         list entries by columns\n",
            "      --color[=WHEN]         colorize the output; WHEN can be 'always' (default\n",
            "                               if omitted), 'auto', or 'never'; more info below\n",
            "  -d, --directory            list directories themselves, not their contents\n",
            "  -D, --dired                generate output designed for Emacs' dired mode\n",
            "  -f                         do not sort, enable -aU, disable -ls --color\n",
            "  -F, --classify             append indicator (one of */=>@|) to entries\n",
            "      --file-type            likewise, except do not append '*'\n",
            "      --format=WORD          across -x, commas -m, horizontal -x, long -l,\n",
            "                               single-column -1, verbose -l, vertical -C\n",
            "      --full-time            like -l --time-style=full-iso\n",
            "  -g                         like -l, but do not list owner\n",
            "      --group-directories-first\n",
            "                             group directories before files;\n",
            "                               can be augmented with a --sort option, but any\n",
            "                               use of --sort=none (-U) disables grouping\n",
            "  -G, --no-group             in a long listing, don't print group names\n",
            "  -h, --human-readable       with -l and/or -s, print human readable sizes\n",
            "                               (e.g., 1K 234M 2G)\n",
            "      --si                   likewise, but use powers of 1000 not 1024\n",
            "  -H, --dereference-command-line\n",
            "                             follow symbolic links listed on the command line\n",
            "      --dereference-command-line-symlink-to-dir\n",
            "                             follow each command line symbolic link\n",
            "                               that points to a directory\n",
            "      --hide=PATTERN         do not list implied entries matching shell PATTERN\n",
            "                               (overridden by -a or -A)\n",
            "      --hyperlink[=WHEN]     hyperlink file names; WHEN can be 'always'\n",
            "                               (default if omitted), 'auto', or 'never'\n",
            "      --indicator-style=WORD  append indicator with style WORD to entry names:\n",
            "                               none (default), slash (-p),\n",
            "                               file-type (--file-type), classify (-F)\n",
            "  -i, --inode                print the index number of each file\n",
            "  -I, --ignore=PATTERN       do not list implied entries matching shell PATTERN\n",
            "  -k, --kibibytes            default to 1024-byte blocks for disk usage\n",
            "  -l                         use a long listing format\n",
            "  -L, --dereference          when showing file information for a symbolic\n",
            "                               link, show information for the file the link\n",
            "                               references rather than for the link itself\n",
            "  -m                         fill width with a comma separated list of entries\n",
            "  -n, --numeric-uid-gid      like -l, but list numeric user and group IDs\n",
            "  -N, --literal              print entry names without quoting\n",
            "  -o                         like -l, but do not list group information\n",
            "  -p, --indicator-style=slash\n",
            "                             append / indicator to directories\n",
            "  -q, --hide-control-chars   print ? instead of nongraphic characters\n",
            "      --show-control-chars   show nongraphic characters as-is (the default,\n",
            "                               unless program is 'ls' and output is a terminal)\n",
            "  -Q, --quote-name           enclose entry names in double quotes\n",
            "      --quoting-style=WORD   use quoting style WORD for entry names:\n",
            "                               literal, locale, shell, shell-always,\n",
            "                               shell-escape, shell-escape-always, c, escape\n",
            "  -r, --reverse              reverse order while sorting\n",
            "  -R, --recursive            list subdirectories recursively\n",
            "  -s, --size                 print the allocated size of each file, in blocks\n",
            "  -S                         sort by file size, largest first\n",
            "      --sort=WORD            sort by WORD instead of name: none (-U), size (-S),\n",
            "                               time (-t), version (-v), extension (-X)\n",
            "      --time=WORD            with -l, show time as WORD instead of default\n",
            "                               modification time: atime or access or use (-u);\n",
            "                               ctime or status (-c); also use specified time\n",
            "                               as sort key if --sort=time (newest first)\n",
            "      --time-style=STYLE     with -l, show times using style STYLE:\n",
            "                               full-iso, long-iso, iso, locale, or +FORMAT;\n",
            "                               FORMAT is interpreted like in 'date'; if FORMAT\n",
            "                               is FORMAT1<newline>FORMAT2, then FORMAT1 applies\n",
            "                               to non-recent files and FORMAT2 to recent files;\n",
            "                               if STYLE is prefixed with 'posix-', STYLE\n",
            "                               takes effect only outside the POSIX locale\n",
            "  -t                         sort by modification time, newest first\n",
            "  -T, --tabsize=COLS         assume tab stops at each COLS instead of 8\n",
            "  -u                         with -lt: sort by, and show, access time;\n",
            "                               with -l: show access time and sort by name;\n",
            "                               otherwise: sort by access time, newest first\n",
            "  -U                         do not sort; list entries in directory order\n",
            "  -v                         natural sort of (version) numbers within text\n",
            "  -w, --width=COLS           set output width to COLS.  0 means no limit\n",
            "  -x                         list entries by lines instead of by columns\n",
            "  -X                         sort alphabetically by entry extension\n",
            "  -Z, --context              print any security context of each file\n",
            "  -1                         list one file per line.  Avoid '\\n' with -q or -b\n",
            "      --help     display this help and exit\n",
            "      --version  output version information and exit\n",
            "\n",
            "The SIZE argument is an integer and optional unit (example: 10K is 10*1024).\n",
            "Units are K,M,G,T,P,E,Z,Y (powers of 1024) or KB,MB,... (powers of 1000).\n",
            "\n",
            "Using color to distinguish file types is disabled both by default and\n",
            "with --color=never.  With --color=auto, ls emits color codes only when\n",
            "standard output is connected to a terminal.  The LS_COLORS environment\n",
            "variable can change the settings.  Use the dircolors command to set it.\n",
            "\n",
            "Exit status:\n",
            " 0  if OK,\n",
            " 1  if minor problems (e.g., cannot access subdirectory),\n",
            " 2  if serious trouble (e.g., cannot access command-line argument).\n",
            "\n",
            "GNU coreutils online help: <http://www.gnu.org/software/coreutils/>\n",
            "Full documentation at: <http://www.gnu.org/software/coreutils/ls>\n",
            "or available locally via: info '(coreutils) ls invocation'\n"
          ],
          "name": "stdout"
        }
      ]
    },
    {
      "cell_type": "code",
      "metadata": {
        "colab": {
          "base_uri": "https://localhost:8080/"
        },
        "id": "dvMHnZ0P7gxt",
        "outputId": "bf8ea526-7010-4d4b-9990-f2e8ade56136"
      },
      "source": [
        "!curl https://www.uwindsor.ca"
      ],
      "execution_count": null,
      "outputs": [
        {
          "output_type": "stream",
          "text": [
            "<!DOCTYPE html PUBLIC \"-//W3C//DTD XHTML+RDFa 1.0//EN\" \"http://www.w3.org/MarkUp/DTD/xhtml-rdfa-1.dtd\">\r\n",
            "<html lang=\"en\" dir=\"ltr\" prefix=\"content: http://purl.org/rss/1.0/modules/content/ dc: http://purl.org/dc/terms/ foaf: http://xmlns.com/foaf/0.1/ og: http://ogp.me/ns# rdfs: http://www.w3.org/2000/01/rdf-schema# sioc: http://rdfs.org/sioc/ns# sioct: http://rdfs.org/sioc/types# skos: http://www.w3.org/2004/02/skos/core# xsd: http://www.w3.org/2001/XMLSchema#\">\r\n",
            "<head profile=\"http://www.w3.org/1999/xhtml/vocab\">\r\n",
            "  <meta charset=\"utf-8\">\r\n",
            "  <meta name=\"viewport\" content=\"width=device-width, initial-scale=1.0\">\r\n",
            "  <meta http-equiv=\"X-UA-Compatible\" content=\"IE=10\" />\r\n",
            "  <meta http-equiv=\"Content-Type\" content=\"text/html; charset=utf-8\" />\n",
            "<meta name=\"Generator\" content=\"Drupal 7 (http://drupal.org)\" />\n",
            "<link rel=\"alternate\" type=\"application/rss+xml\" title=\"University of Windsor RSS\" href=\"https://www.uwindsor.ca/rss.xml\" />\n",
            "<link rel=\"alternate\" type=\"text/calendar\" title=\"Add to My Calendar\" href=\"webcal://www.uwindsor.ca/ical/%2A/events.ics\" />\n",
            "<link rel=\"shortcut icon\" href=\"https://www.uwindsor.ca/sites/all/themes/uwindsor_front_bootstrap/favicon.ico\" type=\"image/vnd.microsoft.icon\" />\n",
            "  <link rel=\"apple-touch-icon\" sizes=\"180x180\" href=\"https://www.uwindsor.ca/sites/all/themes/uwindsor_bootstrap/favicon_package/apple-touch-icon.png\">\r\n",
            "  <link rel=\"icon\" type=\"image/png\" href=\"https://www.uwindsor.ca/sites/all/themes/uwindsor_bootstrap/favicon_package/favicon-32x32.png\" sizes=\"32x32\">\r\n",
            "  <link rel=\"icon\" type=\"image/png\" href=\"https://www.uwindsor.ca/sites/all/themes/uwindsor_bootstrap/favicon_package/favicon-16x16.png\" sizes=\"16x16\">\r\n",
            "  <link rel=\"mask-icon\" href=\"https://www.uwindsor.ca/sites/all/themes/uwindsor_bootstrap/favicon_package/safari-pinned-tab.svg\" color=\"#005596\">\r\n",
            "  <link rel=\"manifest\" href=\"https://www.uwindsor.ca/sites/all/themes/uwindsor_bootstrap/favicon_package/site.webmanifest\">\r\n",
            "  <meta name=\"theme-color\" content=\"#ffffff\">\r\n",
            "  <title>University of Windsor</title>\r\n",
            "  <link type=\"text/css\" rel=\"stylesheet\" href=\"https://www.uwindsor.ca/sites/default/files/css/css_lQaZfjVpwP_oGNqdtWCSpJT1EMqXdMiU84ekLLxQnc4.css\" media=\"all\" />\n",
            "<link type=\"text/css\" rel=\"stylesheet\" href=\"https://www.uwindsor.ca/sites/default/files/css/css_wK_6OkTymLeGE8EAA_dnsRvCJEpFx6LktC0tHt1BluE.css\" media=\"screen\" />\n",
            "<link type=\"text/css\" rel=\"stylesheet\" href=\"https://www.uwindsor.ca/sites/default/files/css/css_Hc3a7WFMCDQyIrA9p5zdbKNtVDticNr5AgRBFb20_S4.css\" media=\"all\" />\n",
            "<link type=\"text/css\" rel=\"stylesheet\" href=\"https://www.uwindsor.ca/sites/default/files/css/css_QG1a1frNbGf2kDOPYxAQ4UyFryg0hIATiPqYpdRDp-c.css\" media=\"all\" />\n",
            "<link type=\"text/css\" rel=\"stylesheet\" href=\"https://www.uwindsor.ca/sites/default/files/css/css_tv8XZ-XRGuV7EZxvsPyFdmfNrNDytlhLe9Th5J_5fKI.css\" media=\"all\" />\n",
            "\r\n",
            "  <script src=\"https://www.uwindsor.ca/sites/all/modules/jquery_update/replace/jquery/1.8/jquery.min.js?v=1.8.3\"></script>\n",
            "<script src=\"https://www.uwindsor.ca/misc/jquery-extend-3.4.0.js?v=1.8.3\"></script>\n",
            "<script src=\"https://www.uwindsor.ca/misc/jquery-html-prefilter-3.5.0-backport.js?v=1.8.3\"></script>\n",
            "<script src=\"https://www.uwindsor.ca/misc/jquery.once.js?v=1.2\"></script>\n",
            "<script src=\"https://www.uwindsor.ca/misc/drupal.js?qvfamc\"></script>\n",
            "<script src=\"https://www.uwindsor.ca/sites/all/modules/uwindsor/uw_directory/uw_directory.js?qvfamc\"></script>\n",
            "<script src=\"https://www.uwindsor.ca/sites/all/modules/uwindsor/uw_eloqua/uw_eloqua_tracker.js?qvfamc\"></script>\n",
            "<script src=\"https://www.uwindsor.ca/sites/all/modules/uwindsor/uw_gridster_module/js/jquery.draggable.js?qvfamc\"></script>\n",
            "<script src=\"https://www.uwindsor.ca/sites/all/modules/uwindsor/uw_gridster_module/js/jquery.collision.js?qvfamc\"></script>\n",
            "<script src=\"https://www.uwindsor.ca/sites/all/modules/uwindsor/uw_gridster_module/js/jquery.coords.js?qvfamc\"></script>\n",
            "<script src=\"https://www.uwindsor.ca/sites/all/modules/uwindsor/uw_gridster_module/js/utils.js?qvfamc\"></script>\n",
            "<script src=\"https://www.uwindsor.ca/sites/all/modules/uwindsor/uw_gridster_module/js/jquery.gridster.js?qvfamc\"></script>\n",
            "<script src=\"https://www.uwindsor.ca/sites/all/modules/uwindsor/uw_gridster_module/js/uw_gridster.js?qvfamc\"></script>\n",
            "<script src=\"https://www.uwindsor.ca/sites/all/modules/uw_search/js/uwin_search.js?qvfamc\"></script>\n",
            "<script src=\"https://www.uwindsor.ca/sites/all/libraries/jquery.jcarousel/dist/jquery.jcarousel.min.js?qvfamc\"></script>\n",
            "<script src=\"https://www.uwindsor.ca/sites/all/modules/uwindsor/uw_front/js/uw_front.js?qvfamc\"></script>\n",
            "<script src=\"https://www.uwindsor.ca/sites/all/libraries/video-js/video.js?qvfamc\"></script>\n",
            "<script>\n",
            "                  videojs.options.flash.swf = \"https://www.uwindsor.ca/sites/all/libraries/video-js/video-js.swf\";\n",
            "                  </script>\n",
            "<script src=\"https://www.uwindsor.ca/sites/all/modules/google_analytics/googleanalytics.js?qvfamc\"></script>\n",
            "<script>(function(i,s,o,g,r,a,m){i[\"GoogleAnalyticsObject\"]=r;i[r]=i[r]||function(){(i[r].q=i[r].q||[]).push(arguments)},i[r].l=1*new Date();a=s.createElement(o),m=s.getElementsByTagName(o)[0];a.async=1;a.src=g;m.parentNode.insertBefore(a,m)})(window,document,\"script\",\"https://www.uwindsor.ca/sites/default/files/googleanalytics/analytics.js?qvfamc\",\"ga\");ga(\"create\", \"UA-3246538-2\", {\"cookieDomain\":\"auto\"});ga(\"send\", \"pageview\");</script>\n",
            "<script src=\"//assets.pinterest.com/js/pinit.js\"></script>\n",
            "<script src=\"https://www.uwindsor.ca/sites/all/themes/uwindsor_bootstrap/bootstrap/js/affix.js?qvfamc\"></script>\n",
            "<script src=\"https://www.uwindsor.ca/sites/all/themes/uwindsor_bootstrap/bootstrap/js/alert.js?qvfamc\"></script>\n",
            "<script src=\"https://www.uwindsor.ca/sites/all/themes/uwindsor_bootstrap/bootstrap/js/button.js?qvfamc\"></script>\n",
            "<script src=\"https://www.uwindsor.ca/sites/all/themes/uwindsor_bootstrap/bootstrap/js/carousel.js?qvfamc\"></script>\n",
            "<script src=\"https://www.uwindsor.ca/sites/all/themes/uwindsor_bootstrap/bootstrap/js/collapse.js?qvfamc\"></script>\n",
            "<script src=\"https://www.uwindsor.ca/sites/all/themes/uwindsor_bootstrap/bootstrap/js/dropdown.js?qvfamc\"></script>\n",
            "<script src=\"https://www.uwindsor.ca/sites/all/themes/uwindsor_bootstrap/bootstrap/js/modal.js?qvfamc\"></script>\n",
            "<script src=\"https://www.uwindsor.ca/sites/all/themes/uwindsor_bootstrap/bootstrap/js/tooltip.js?qvfamc\"></script>\n",
            "<script src=\"https://www.uwindsor.ca/sites/all/themes/uwindsor_bootstrap/bootstrap/js/popover.js?qvfamc\"></script>\n",
            "<script src=\"https://www.uwindsor.ca/sites/all/themes/uwindsor_bootstrap/bootstrap/js/scrollspy.js?qvfamc\"></script>\n",
            "<script src=\"https://www.uwindsor.ca/sites/all/themes/uwindsor_bootstrap/bootstrap/js/tab.js?qvfamc\"></script>\n",
            "<script src=\"https://www.uwindsor.ca/sites/all/themes/uwindsor_bootstrap/bootstrap/js/transition.js?qvfamc\"></script>\n",
            "<script src=\"https://www.uwindsor.ca/sites/all/themes/uwindsor_bootstrap/js/script.js?qvfamc\"></script>\n",
            "<script src=\"https://www.uwindsor.ca/sites/all/themes/uwindsor_bootstrap/js/alpine.js?qvfamc\"></script>\n",
            "<script src=\"https://www.uwindsor.ca/sites/all/themes/uwindsor_front_bootstrap/js/custom.js?qvfamc\"></script>\n",
            "<script>jQuery.extend(Drupal.settings, {\"basePath\":\"\\/\",\"pathPrefix\":\"\",\"ajaxPageState\":{\"theme\":\"uwindsor_front_bootstrap\",\"theme_token\":\"FQEYBBzcOAQPJbc_x4kIThQ8e4kCdM-qZxq5sjFg8ZY\",\"js\":{\"sites\\/all\\/libraries\\/owl-carousel\\/owl.carousel.min.js\":1,\"sites\\/all\\/modules\\/owlcarousel\\/includes\\/js\\/owlcarousel.settings.js\":1,\"sites\\/all\\/themes\\/bootstrap\\/js\\/bootstrap.js\":1,\"sites\\/all\\/modules\\/jquery_update\\/replace\\/jquery\\/1.8\\/jquery.min.js\":1,\"misc\\/jquery-extend-3.4.0.js\":1,\"misc\\/jquery-html-prefilter-3.5.0-backport.js\":1,\"misc\\/jquery.once.js\":1,\"misc\\/drupal.js\":1,\"sites\\/all\\/modules\\/uwindsor\\/uw_directory\\/uw_directory.js\":1,\"sites\\/all\\/modules\\/uwindsor\\/uw_eloqua\\/uw_eloqua_tracker.js\":1,\"sites\\/all\\/modules\\/uwindsor\\/uw_gridster_module\\/js\\/jquery.draggable.js\":1,\"sites\\/all\\/modules\\/uwindsor\\/uw_gridster_module\\/js\\/jquery.collision.js\":1,\"sites\\/all\\/modules\\/uwindsor\\/uw_gridster_module\\/js\\/jquery.coords.js\":1,\"sites\\/all\\/modules\\/uwindsor\\/uw_gridster_module\\/js\\/utils.js\":1,\"sites\\/all\\/modules\\/uwindsor\\/uw_gridster_module\\/js\\/jquery.gridster.js\":1,\"sites\\/all\\/modules\\/uwindsor\\/uw_gridster_module\\/js\\/uw_gridster.js\":1,\"sites\\/all\\/modules\\/uw_search\\/js\\/uwin_search.js\":1,\"sites\\/all\\/libraries\\/jquery.jcarousel\\/dist\\/jquery.jcarousel.min.js\":1,\"sites\\/all\\/modules\\/uwindsor\\/uw_front\\/js\\/uw_front.js\":1,\"sites\\/all\\/libraries\\/video-js\\/video.js\":1,\"0\":1,\"sites\\/all\\/modules\\/google_analytics\\/googleanalytics.js\":1,\"1\":1,\"\\/\\/assets.pinterest.com\\/js\\/pinit.js\":1,\"sites\\/all\\/themes\\/uwindsor_bootstrap\\/bootstrap\\/js\\/affix.js\":1,\"sites\\/all\\/themes\\/uwindsor_bootstrap\\/bootstrap\\/js\\/alert.js\":1,\"sites\\/all\\/themes\\/uwindsor_bootstrap\\/bootstrap\\/js\\/button.js\":1,\"sites\\/all\\/themes\\/uwindsor_bootstrap\\/bootstrap\\/js\\/carousel.js\":1,\"sites\\/all\\/themes\\/uwindsor_bootstrap\\/bootstrap\\/js\\/collapse.js\":1,\"sites\\/all\\/themes\\/uwindsor_bootstrap\\/bootstrap\\/js\\/dropdown.js\":1,\"sites\\/all\\/themes\\/uwindsor_bootstrap\\/bootstrap\\/js\\/modal.js\":1,\"sites\\/all\\/themes\\/uwindsor_bootstrap\\/bootstrap\\/js\\/tooltip.js\":1,\"sites\\/all\\/themes\\/uwindsor_bootstrap\\/bootstrap\\/js\\/popover.js\":1,\"sites\\/all\\/themes\\/uwindsor_bootstrap\\/bootstrap\\/js\\/scrollspy.js\":1,\"sites\\/all\\/themes\\/uwindsor_bootstrap\\/bootstrap\\/js\\/tab.js\":1,\"sites\\/all\\/themes\\/uwindsor_bootstrap\\/bootstrap\\/js\\/transition.js\":1,\"sites\\/all\\/themes\\/uwindsor_bootstrap\\/js\\/script.js\":1,\"sites\\/all\\/themes\\/uwindsor_bootstrap\\/js\\/alpine.js\":1,\"sites\\/all\\/themes\\/uwindsor_front_bootstrap\\/js\\/custom.js\":1},\"css\":{\"modules\\/system\\/system.base.css\":1,\"sites\\/all\\/libraries\\/owl-carousel\\/owl.carousel.css\":1,\"sites\\/all\\/libraries\\/owl-carousel\\/owl.theme.css\":1,\"sites\\/all\\/libraries\\/owl-carousel\\/owl.transitions.css\":1,\"sites\\/all\\/modules\\/calendar\\/css\\/calendar_multiday.css\":1,\"sites\\/all\\/modules\\/date\\/date_api\\/date.css\":1,\"sites\\/all\\/modules\\/date\\/date_popup\\/themes\\/datepicker.1.7.css\":1,\"sites\\/all\\/modules\\/date\\/date_repeat_field\\/date_repeat_field.css\":1,\"modules\\/field\\/theme\\/field.css\":1,\"sites\\/all\\/modules\\/google_appliance\\/theme\\/google_appliance.css\":1,\"sites\\/all\\/modules\\/uwindsor\\/uw_directory\\/uw_directory.css\":1,\"sites\\/all\\/modules\\/uwindsor\\/uw_gridster_module\\/css\\/jquery.gridster.css\":1,\"sites\\/all\\/modules\\/uwindsor\\/uw_gridster_module\\/css\\/uw_gridster.css\":1,\"sites\\/all\\/modules\\/uwindsor\\/uw_social_follow\\/css\\/uw_social_follow.css\":1,\"sites\\/all\\/modules\\/views\\/css\\/views.css\":1,\"sites\\/all\\/modules\\/ckeditor\\/css\\/ckeditor.css\":1,\"sites\\/all\\/modules\\/ctools\\/css\\/ctools.css\":1,\"sites\\/all\\/modules\\/uwindsor\\/uw_front\\/css\\/uw_front.css\":1,\"sites\\/all\\/libraries\\/video-js\\/video-js.min.css\":1,\"sites\\/all\\/modules\\/date\\/date_views\\/css\\/date_views.css\":1,\"sites\\/all\\/themes\\/uwindsor_bootstrap\\/css\\/normalize.css\":1,\"sites\\/all\\/themes\\/uwindsor_bootstrap\\/css\\/animate.css\":1,\"sites\\/all\\/themes\\/uwindsor_bootstrap\\/css\\/bootstrap.css\":1,\"sites\\/all\\/themes\\/uwindsor_bootstrap\\/css\\/style.css\":1,\"sites\\/all\\/themes\\/uwindsor_bootstrap\\/less\\/font-awesome\\/font-awesome.css\":1,\"sites\\/all\\/themes\\/uwindsor_front_bootstrap\\/css\\/front-style.css\":1}},\"owlcarousel\":{\"owl-carousel-frontpage_slideshow28\":{\"settings\":{\"items\":1,\"itemsDesktop\":[\"1240\",1],\"itemsDesktopSmall\":[\"979\",1],\"itemsTablet\":[\"768\",1],\"itemsTabletSmall\":[\"0\",0],\"itemsMobile\":[\"479\",1],\"singleItem\":false,\"itemsScaleUp\":false,\"slideSpeed\":200,\"paginationSpeed\":800,\"rewindSpeed\":1000,\"autoPlay\":\"5000\",\"stopOnHover\":true,\"navigation\":false,\"navigationText\":[\"prev\",\"MORE \\u003E\"],\"rewindNav\":true,\"scrollPerPage\":false,\"pagination\":true,\"paginationNumbers\":false,\"responsive\":true,\"responsiveRefreshRate\":200,\"baseClass\":\"owl-carousel\",\"theme\":\"owl-theme-pageslide\",\"lazyLoad\":false,\"lazyFollow\":false,\"lazyEffect\":\"fadeIn\",\"autoHeight\":false,\"jsonPath\":false,\"jsonSuccess\":false,\"dragBeforeAnimFinish\":false,\"mouseDrag\":false,\"touchDrag\":true,\"addClassActive\":false,\"transitionStyle\":false},\"views\":{\"ajax_pagination\":0}}},\"googleanalytics\":{\"trackOutbound\":1,\"trackMailto\":1,\"trackDownload\":1,\"trackDownloadExtensions\":\"7z|aac|arc|arj|asf|asx|avi|bin|csv|doc(x|m)?|dot(x|m)?|exe|flv|gif|gz|gzip|hqx|jar|jpe?g|js|mp(2|3|4|e?g)|mov(ie)?|msi|msp|pdf|phps|png|ppt(x|m)?|pot(x|m)?|pps(x|m)?|ppam|sld(x|m)?|thmx|qtm?|ra(m|r)?|sea|sit|tar|tgz|torrent|txt|wav|wma|wmv|wpd|xls(x|m|b)?|xlt(x|m)|xlam|xml|z|zip\"},\"urlIsAjaxTrusted\":{\"\\/\":true},\"bootstrap\":{\"anchorsFix\":1,\"anchorsSmoothScrolling\":1,\"popoverEnabled\":1,\"popoverOptions\":{\"animation\":1,\"html\":0,\"placement\":\"right\",\"selector\":\"\",\"trigger\":\"click\",\"title\":\"\",\"content\":\"\",\"delay\":0,\"container\":\"body\"},\"tooltipEnabled\":1,\"tooltipOptions\":{\"animation\":1,\"html\":0,\"placement\":\"auto left\",\"selector\":\"\",\"trigger\":\"hover focus\",\"delay\":0,\"container\":\"body\"}}});</script>\n",
            "\t<!-- Google Tag Manager -->\r\n",
            "\t<script>(function(w,d,s,l,i){w[l]=w[l]||[];w[l].push({'gtm.start':\r\n",
            "\tnew Date().getTime(),event:'gtm.js'});var f=d.getElementsByTagName(s)[0],\r\n",
            "\tj=d.createElement(s),dl=l!='dataLayer'?'&l='+l:'';j.async=true;j.src=\r\n",
            "\t'https://www.googletagmanager.com/gtm.js?id='+i+dl;f.parentNode.insertBefore(j,f);\r\n",
            "\t})(window,document,'script','dataLayer','GTM-5PQFQWH');</script>\r\n",
            "\t<!-- End Google Tag Manager -->\r\n",
            "</head>\r\n",
            "<body class=\"html front not-logged-in one-sidebar sidebar-second page-node theme-uwindsor_front_bootstrap\"  \r\n",
            "  x-data=\"collapseOptions()\"\r\n",
            "  x-on:keydown.shift.?=\"toggleSearch();$nextTick(() => { $refs.searchfield.focus(); });\" >\r\n",
            "\t<!-- Google Tag Manager (noscript) -->\r\n",
            "\t<noscript><iframe src=\"https://www.googletagmanager.com/ns.html?id=GTM-5PQFQWH\"\r\n",
            "\theight=\"0\" width=\"0\" style=\"display:none;visibility:hidden\"></iframe></noscript>\r\n",
            "\t<!-- End Google Tag Manager (noscript) -->\r\n",
            "  \r\n",
            "  <div id=\"entire-page\">\r\n",
            "    <div id=\"skip-link\">\r\n",
            "      <a href=\"#main-content\" class=\"element-invisible element-focusable\">Skip to main content</a>\r\n",
            "    </div>\r\n",
            "        <div>\n",
            "<div id=\"search-region\" x-show=\"searchOpen\" :class=\"{ 'animated fadeIn':searchOpen }\">\n",
            "    <div class=\"container-fluid\">\n",
            "                      <div class=\"region region-top-navigation\">\n",
            "    <div id=\"block-uw-search-uw-search\" class=\"block block-uw-search block-no-title\">\r\n",
            "      \r\n",
            "  <form action=\"/\" method=\"post\" id=\"uw-search-block-form\" accept-charset=\"UTF-8\"><div><a href=\"#\" class=\"fa fa-search\" id=\"mobile-search-toggle\" onclick=\"document.getElementById('uw-search-block-form').submit();\"><span class=\"screen-reader-text\">University of Windsor Search</span></a><div class=\"form-type-textfield form-item-search-keys form-item form-group\">\n",
            "  <label class=\"element-invisible\" for=\"edit-search-keys\">Enter the terms you wish to search for. </label>\n",
            " <input placeholder=\"SEARCH (shortcut: &quot;SHIFT+?&quot;)\" id=\"edit-search-keys\" x-ref=\"searchfield\" x-on:keydown.escape=\"toggleSearch()\" onfocus=\"this.value=&#039;&#039;\" class=\"form-control form-text\" type=\"text\" name=\"search_keys\" value=\"\" size=\"15\" maxlength=\"128\" />\n",
            "</div>\n",
            "<input type=\"hidden\" name=\"form_build_id\" value=\"form-L2KvlOOH4fh7lBO_KouM-B4KUOLIUyXQxHPgdVovCGY\" />\n",
            "<input type=\"hidden\" name=\"form_id\" value=\"uw_search_block_form\" />\n",
            "<button class=\"btn btn-primary form-submit\" id=\"edit-submit\" name=\"op\" value=\"Search\" type=\"submit\">Search</button>\n",
            "</div></form></div><!-- /.block -->\r\n",
            "  </div>\n",
            "            </div>\n",
            "</div>  \n",
            "<div id=\"menu-region\" x-show=\"menuOpen\" :class=\"{ 'animated fadeIn':menuOpen }\">\n",
            "    <div class=\"container-fluid\">\n",
            "        <div class=\"row\">\n",
            "            <div class=\"col-md-12\">\n",
            "                <div class=\"pull-right menu-region-options\">\n",
            "                    <a href=\"https://uwindsor.ca/supportuwindsor\" class=\"support-uwindsor-button\">Support UWindsor</a>\n",
            "                    <a href=\"#0\" class=\"menu-region-close\" @click=\"menuOpen = false\">\n",
            "                        CLOSE\n",
            "                    </a>  \n",
            "                </div>\n",
            "            </div>\n",
            "        </div>\n",
            "        \n",
            "        <div class=\"row menu-region-links\">\n",
            "            <div class=\"col-md-3\">\n",
            "                <span class=\"menu-title\">QUICK LINKS</span>\n",
            "                <ul>\n",
            "                <li><a href=\"https://uwindsor.ca/returntocampus\">Return to Campus</a></li><li><a href=\"https://uwindsor.ca/together\">Roadmap for Fall</a></li><li><a href=\"http://www.uwindsor.ca/current-students\">Current Students</a></li><li><a href=\"https://blackboard.uwindsor.ca/\">Blackboard</a></li><li><a href=\"https://student.uwindsor.ca\">UWinsite Student</a></li><li><a href=\"http://www.uwindsor.ca/faculty-staff\">Faculty + Staff</a></li><li><a href=\"https://www.uwindsor.ca/finance/345/uwinsite-finance\">UWinsite Finance</a></li><li><a href=\"http://www.uwindsor.ca/alumni\">Alumni + Donors</a></li><li><a href=\"https://www.uwindsor.ca/cces/1333/employers\">Industry + Community Partners</a></li>                </ul>\n",
            "            </div>\n",
            "\n",
            "                        \n",
            "                            <div class=\"col-md-3\">\n",
            "                <span class=\"menu-title\">About</span>\n",
            "                <ul><li class=\"0 first\"><a href=\"https://www.uwindsor.ca/about-the-university\">About UWindsor</a></li>\n",
            "<li class=\"1\"><a href=\"https://www.uwindsor.ca/president/\">Office of the President</a></li>\n",
            "<li class=\"2 last\"><a href=\"https://www.uwindsor.ca/174375/virtual-tour#virtualtour\">Virtual Tour</a></li>\n",
            "</ul><ul><li class=\"0 first\"><a href=\"https://www.uwindsor.ca/visit-us\">Visitor Information</a></li>\n",
            "<li class=\"1\"><a href=\"https://web2.uwindsor.ca/pac/campusmap/index.php\">Campus Maps</a></li>\n",
            "<li class=\"2 last\"><a href=\"https://www.uwindsor.ca/parking/\">Parking</a></li>\n",
            "</ul><ul><li class=\"0 first last\"><a href=\"https://www.uwindsor.ca/viewmagazine/\">VIEW Magazine</a></li>\n",
            "</ul>                </div>\n",
            "                            <div class=\"col-md-3\">\n",
            "                <span class=\"menu-title\">Academics</span>\n",
            "                <span>Programs</span><ul><li class=\"0 first\"><a href=\"https://future.uwindsor.ca/program-listing?filter=Undergraduate\">Undergraduate Programs</a></li>\n",
            "<li class=\"1\"><a href=\"https://future.uwindsor.ca/program-listing?filter=Graduate\">Graduate Programs</a></li>\n",
            "<li class=\"2\"><a href=\"https://www.uwindsor.ca/intl/\">International Programs</a></li>\n",
            "<li class=\"3\"><a href=\"https://www.uwindsor.ca/coop-workplace-partnerships/\">Co-operative Education</a></li>\n",
            "<li class=\"4 last\"><a href=\"https://www.uwindsor.ca/continuingeducation/\">Continuing Education</a></li>\n",
            "</ul><span>Support</span><ul><li class=\"0 first\"><a href=\"https://uwindsor.ca/registrar\">Office of the Registrar</a></li>\n",
            "<li class=\"1\"><a href=\"https://uwindsor.ca/awards\">Student Awards</a></li>\n",
            "<li class=\"2 last\"><a href=\"https://www.uwindsor.ca/provost/\">Office of the Provost</a></li>\n",
            "</ul>                </div>\n",
            "                            <div class=\"col-md-3\">\n",
            "                <span class=\"menu-title\">Faculties</span>\n",
            "                <ul><li class=\"0 first\"><a href=\"https://www.uwindsor.ca/fahss\">Arts, Humanities, and Social Sciences</a></li>\n",
            "<li class=\"1\"><a href=\"https://www.uwindsor.ca/law/\">Law</a></li>\n",
            "<li class=\"2\"><a href=\"https://www.uwindsor.ca/education/\">Education</a></li>\n",
            "<li class=\"3\"><a href=\"https://www.uwindsor.ca/nursing/\">Nursing</a></li>\n",
            "<li class=\"4\"><a href=\"https://www.uwindsor.ca/engineering/\">Engineering</a></li>\n",
            "<li class=\"5\"><a href=\"https://www.uwindsor.ca/odette/\">Business</a></li>\n",
            "<li class=\"6\"><a href=\"https://www.uwindsor.ca/graduate-studies/\">Graduate Studies</a></li>\n",
            "<li class=\"7\"><a href=\"https://www.uwindsor.ca/hk\">Human Kinetics</a></li>\n",
            "<li class=\"8 last\"><a href=\"https://www.uwindsor.ca/science\">Science</a></li>\n",
            "</ul>                </div>\n",
            "            </div><div class=\"row menu-region-links\">                <div class=\"col-md-3\">\n",
            "                <span class=\"menu-title\">Research</span>\n",
            "                <ul><li class=\"0 first\"><a href=\"https://www.uwindsor.ca/vp-research/353/covid-19-research-and-innovation-guidance\">COVID-19 Research and Innovation Guidance</a></li>\n",
            "<li class=\"1\"><a href=\"https://www.uwindsor.ca/vp-research/\">Vice-President, Research &amp; Innovation</a></li>\n",
            "<li class=\"2\"><a href=\"https://www.uwindsor.ca/research-innovation-services/\">Research &amp; Innovation Services</a></li>\n",
            "<li class=\"3\"><a href=\"https://www.uwindsor.ca/research-partnerships/\">Research Partnerships </a></li>\n",
            "<li class=\"4 last\"><a href=\"https://www.uwindsor.ca/vp-research/319/research-appointments\">Research Appointments</a></li>\n",
            "</ul><ul><li class=\"0 first\"><a href=\"https://www.uwindsor.ca/research-ethics-board/\">Research Ethics</a></li>\n",
            "<li class=\"1\"><a href=\"https://www.uwindsor.ca/chemical-control-centre\">Research Safety</a></li>\n",
            "<li class=\"2\"><a href=\"https://www.uwindsor.ca/animal-care-committee/\">Animal Care</a></li>\n",
            "<li class=\"3 last\"><a href=\"https://www.uwindsor.ca/finance/research-finance\">Research Finance</a></li>\n",
            "</ul><ul><li class=\"0 first\"><a href=\"https://leddy.uwindsor.ca/\">Leddy Library</a></li>\n",
            "<li class=\"1\"><a href=\"https://scholar.uwindsor.ca/uwilldiscover/\">UWill Discover!</a></li>\n",
            "<li class=\"2 last\"><a href=\"https://www.epicentreuwindsor.ca/\">EPICentre</a></li>\n",
            "</ul>                </div>\n",
            "                            <div class=\"col-md-3\">\n",
            "                <span class=\"menu-title\">Student Life</span>\n",
            "                <ul><li class=\"0 first\"><a href=\"https://www.uwindsor.ca/639668/around-university\">About Student Life</a></li>\n",
            "<li class=\"1\"><a href=\"https://www.uwindsor.ca/event-calendar\">UWindsor Events</a></li>\n",
            "<li class=\"2\"><a href=\"https://www.uwindsor.ca/soca/237/soca-events\">SoCA Concerts &amp; Events</a></li>\n",
            "<li class=\"3\"><a href=\"https://golancers.ca/\">Lancers Varsity Sports</a></li>\n",
            "<li class=\"4 last\"><a href=\"https://www.uwindsor.ca/universityplayers/\">University Players</a></li>\n",
            "</ul><ul><li class=\"0 first\"><a href=\"https://www.uwindsor.ca/recreation-and-fitness\">Athletics + Recreation Services</a></li>\n",
            "<li class=\"1\"><a href=\"https://www.uwindsor.ca/studentaccessibility/\">Student Accessibility Services</a></li>\n",
            "<li class=\"2\"><a href=\"https://www.uwindsor.ca/residence/\">Residence</a></li>\n",
            "<li class=\"3\"><a href=\"https://www.uwindsor.ca/food/\">Food Services</a></li>\n",
            "<li class=\"4 last\"><a href=\"https://www.uwindsor.ca/156/lots-student-support-services\">Student Support</a></li>\n",
            "</ul>                </div>\n",
            "                        <div class=\"row menu-region-links\" style=\"margin:0;\">\n",
            "                <div class=\"container-fluid\">\n",
            "                    <div class=\"col-md-offset-9 col-md-3\">\n",
            "                        <a href=\"#entire-page\" class=\"pull-right back-to-top\">Back to Top <em class=\"fa fa-arrow-up\"></em></a>\n",
            "                    </div>\n",
            "                </div>\n",
            "            </div>\n",
            "        </div>\n",
            "    </div>\n",
            "</div>\n",
            "<div class=\"container-fluid\">\n",
            "    <div class=\"main-header\">\n",
            "        <div class=\"top-navigation-area\">\n",
            "            <div class=\"header-area\">\n",
            "                <div class=\"logo-region\">\n",
            "                    <a href=\"//www.uwindsor.ca\" title=\"Home\">\n",
            "                        <img src=\"/sites/all/themes/uwindsor_bootstrap/images/uwindsor_logo.svg\"  \n",
            "                        onerror=\"this.onerror=null; this.src='/sites/all/themes/uwindsor_bootstrap/images/uwin_logo.jpg'\" \n",
            "                        alt=\"Home\" />\n",
            "                    </a>\n",
            "                </div>\n",
            "                <div class=\"right-header-area\">\n",
            "                                        <a href=\"//www.uwindsor.ca/future-students\" class=\"admissions-button hidden-xs hidden-sm\">\n",
            "                        FUTURE STUDENTS\n",
            "                    </a>\n",
            "                                                            <a href=\"http://ask.uwindsor.ca\" class=\"ask-uwindsor-button hidden-xs hidden-sm\">\n",
            "                        <span><span class=\"ask-uwindsor-button__ask\">ask.</span>UWindsor</span>\n",
            "                    </a>\n",
            "                                                                <a href=\"#0\" class=\"search-button\" aria-label=\"Show search area\" @click=\"toggleSearch(); $nextTick(() => { $refs.searchfield.focus() });\"></a>\n",
            "                                        <a href=\"#0\" class=\"menu-button\" class=\"menu-button\" @click=\"toggleMenu()\">\n",
            "                        <span class=\"menu-button-text hidden-xs\">MENU</span>\n",
            "                        <span class=\"menu-button-icon\"></span>\n",
            "                    </a>\n",
            "                </div>\n",
            "            </div>\n",
            "                            <a href=\"http://ask.uwindsor.ca\" class=\"ask-uwindsor-button visible-xs visible-sm\">\n",
            "                    <span><span class=\"ask-uwindsor-button__ask\">ask.</span>UWindsor</span>\n",
            "                </a>\n",
            "                         \n",
            "            <a href=\"//www.uwindsor.ca/future-students\" class=\"admissions-button visible-xs visible-sm\">\n",
            "                FUTURE STUDENTS\n",
            "            </a>\n",
            "                    </div>\n",
            "    </div>\n",
            "</div>\n",
            "</div>\n",
            "<div class=\"front-container\">\r\n",
            "\r\n",
            "\r\n",
            "<a id=\"main-content\"></a>\r\n",
            "    <div class=\"frontpage-content container-fluid\">\r\n",
            "        <div class=\"region\">\r\n",
            "              <div class=\"region region-frontpage-content\">\n",
            "    <div id=\"block-views-e91463b8b9b7c753a46a675070826ecd\" class=\"block block-views block-no-title\">\r\n",
            "      \r\n",
            "  <div class=\"view view-frontpage-slideshow view-id-frontpage_slideshow view-display-id-frontpage_slideshow view-dom-id-838b36dc8194978ebc0c1b641cfaf06d\">\n",
            "        \n",
            "  \n",
            "  \n",
            "      <div class=\"view-content\">\n",
            "      <div class=\"owl-carousel-frontpage_slideshow28\"><div class=\"item-0\">  \n",
            "  <div class=\"views-field views-field-title\">        <span class=\"field-content\"><div class=\"frontpage-slideshow-block\">\n",
            "<div class=\"slideshow-image-title uw-side-padding\"><div class=\"h2-container\"><h2 title=\"FIRST-YEAR STUDENT REGISTRATION OPEN\"><a href=\"https://future.uwindsor.ca/plan-your-program\" title=\"FIRST-YEAR STUDENT REGISTRATION OPEN\"><span>FIRST-YEAR STUDENT REGISTRATION OPEN</span></a></h2></div><div class=\"h3-container\"><h3>Resources available</h3></div></div>\n",
            "<div class=\"slide-image-container\"><img typeof=\"foaf:Image\" src=\"//www.uwindsor.ca/sites/default/files/styles/uwindsor_carousel/public/1540_banner.jpg?itok=-5n_FdUc\" width=\"1540\" height=\"613\" alt=\"group oif students\" /></div>\n",
            "<div class=\"slideshow-image-more uw-side-padding\"><div class=\"more-button\"><span><a href=\"https://future.uwindsor.ca/plan-your-program\" title=\"FIRST-YEAR STUDENT REGISTRATION OPEN\">MORE <i class=\"fa fa-angle-right\"></i></a></span></div></div>\n",
            "</div></span>  </div></div><div class=\"item-1\">  \n",
            "  <div class=\"views-field views-field-title\">        <span class=\"field-content\"><div class=\"frontpage-slideshow-block\">\n",
            "<div class=\"slideshow-image-title uw-side-padding\"><div class=\"h2-container\"><h2 title=\"Envision\"><a href=\"https://www.uwindsor.ca/president/312/envision-series\" title=\"Envision\"><span>Envision</span></a></h2></div><div class=\"h3-container\"><h3>Community<br />\n",
            "speaker<br />\n",
            "series</h3></div></div>\n",
            "<div class=\"slide-image-container\"><img typeof=\"foaf:Image\" src=\"//www.uwindsor.ca/sites/default/files/styles/uwindsor_carousel/public/1540_homepageslider4.jpg?itok=EtqRxxiU\" width=\"1540\" height=\"613\" alt=\"Envision header\" /></div>\n",
            "<div class=\"slideshow-image-more uw-side-padding\"><div class=\"more-button\"><span><a href=\"https://www.uwindsor.ca/president/312/envision-series\" title=\"Envision\">MORE <i class=\"fa fa-angle-right\"></i></a></span></div></div>\n",
            "</div></span>  </div></div><div class=\"item-2\">  \n",
            "  <div class=\"views-field views-field-title\">        <span class=\"field-content\"><div class=\"frontpage-slideshow-block\">\n",
            "<div class=\"slideshow-image-title uw-side-padding\"><div class=\"h2-container\"><h2 title=\"UWindsor Together\"><a href=\"https://www.uwindsor.ca/returntocampus/\" title=\"UWindsor Together\"><span>UWindsor Together</span></a></h2></div><div class=\"h3-container\"><h3>A return to campus<br />\n",
            "life and community</h3></div></div>\n",
            "<div class=\"slide-image-container\"><img typeof=\"foaf:Image\" src=\"//www.uwindsor.ca/sites/default/files/styles/uwindsor_carousel/public/1540_rtcbanner10369.jpg?itok=-J15gSXH\" width=\"1540\" height=\"613\" alt=\"Return to campus image showing Dillon Hall\" /></div>\n",
            "<div class=\"slideshow-image-more uw-side-padding\"><div class=\"more-button\"><span><a href=\"https://www.uwindsor.ca/returntocampus/\" title=\"UWindsor Together\">MORE <i class=\"fa fa-angle-right\"></i></a></span></div></div>\n",
            "</div></span>  </div></div></div>    </div>\n",
            "  \n",
            "  \n",
            "  \n",
            "  \n",
            "  \n",
            "  \n",
            "</div></div><!-- /.block -->\r\n",
            "  </div>\n",
            "        </div>\r\n",
            "</div>\r\n",
            "        <div class=\"frontpage-news container-fluid\">\r\n",
            "    <div class=\"region uw-side-padding\">\r\n",
            "          <div class=\"region region-frontpage-news\">\n",
            "    <div id=\"block-views-91586fbfcba40d80fc039eb0552deff4\" class=\"block block-views block-no-title\">\r\n",
            "      \r\n",
            "  <div class=\"view view-frontpage-news view-id-frontpage_news view-display-id-frontpage_news_static view-dom-id-ecf0caf38a0a3fc5e7c4429261a3adfb\">\n",
            "        \n",
            "  \n",
            "  \n",
            "      <div class=\"view-content\">\n",
            "        <div class=\"views-row views-row-1 views-row-odd views-row-first col-md-3 col-xs-6\">\n",
            "      \n",
            "  <div class=\"views-field views-field-title\">        <span class=\"field-content\"><div class=\"frontpage-newsstatic-block col-md-3 col-xs-6\">\n",
            "<div class=\"slide-image-container\"><img typeof=\"foaf:Image\" src=\"https://www.uwindsor.ca/sites/default/files/306_forbes_0.jpg\" width=\"306\" height=\"310\" alt=\"Forbes logo\" /></div>\n",
            "<div class=\"slideshow-image-title\"><h2 title=\"Recognition for UWindsor &quot;gratifying and significant&quot;\"><a href=\"node/646964\" title=\"Recognition for UWindsor &quot;gratifying and significant&quot;\"><span>Recognition for UWindsor &quot;gratifying and significant&quot;</span></a></h2></div>\n",
            "</div></span>  </div>  </div>\n",
            "  <div class=\"views-row views-row-2 views-row-even col-md-3 col-xs-6\">\n",
            "      \n",
            "  <div class=\"views-field views-field-title\">        <span class=\"field-content\"><div class=\"frontpage-newsstatic-block col-md-3 col-xs-6\">\n",
            "<div class=\"slide-image-container\"><img typeof=\"foaf:Image\" src=\"https://www.uwindsor.ca/sites/default/files/306_katrinabahnam_5410.jpg\" width=\"306\" height=\"310\" alt=\"Katrina Bahnam\" /></div>\n",
            "<div class=\"slideshow-image-title\"><h2 title=\"President’s Medal winner a “shining example”\"><a href=\"node/647189\" title=\"President’s Medal winner a “shining example”\"><span>President’s Medal winner a “shining example”</span></a></h2></div>\n",
            "</div></span>  </div>  </div>\n",
            "  <div class=\"views-row views-row-3 views-row-odd col-md-3 col-xs-6\">\n",
            "      \n",
            "  <div class=\"views-field views-field-title\">        <span class=\"field-content\"><div class=\"frontpage-newsstatic-block col-md-3 col-xs-6\">\n",
            "<div class=\"slide-image-container\"><img typeof=\"foaf:Image\" src=\"https://www.uwindsor.ca/sites/default/files/306_dillon_0.jpg\" width=\"306\" height=\"310\" alt=\"Dillon Hall framed in black\" /></div>\n",
            "<div class=\"slideshow-image-title\"><h2 title=\"University releases statement regarding Marieval Indian Residential School\"><a href=\"node/647191\" title=\"University releases statement regarding Marieval Indian Residential School\"><span>University releases statement regarding Marieval Indian Residential School</span></a></h2></div>\n",
            "</div></span>  </div>  </div>\n",
            "  <div class=\"views-row views-row-4 views-row-even views-row-last col-md-3 col-xs-6\">\n",
            "      \n",
            "  <div class=\"views-field views-field-title\">        <span class=\"field-content\"><div class=\"frontpage-newsstatic-block col-md-3 col-xs-6\">\n",
            "<div class=\"slide-image-container\"><img typeof=\"foaf:Image\" src=\"https://www.uwindsor.ca/sites/default/files/306_rtc_main_menu.jpg\" width=\"306\" height=\"310\" alt=\"Turtle Commons\" /></div>\n",
            "<div class=\"slideshow-image-title\"><h2 title=\"UWindsor preparing for a safe return to campus\"><a href=\"node/646448\" title=\"UWindsor preparing for a safe return to campus\"><span>UWindsor preparing for a safe return to campus</span></a></h2></div>\n",
            "</div></span>  </div>  </div>\n",
            "    </div>\n",
            "  \n",
            "  \n",
            "  \n",
            "  \n",
            "      <div class=\"view-footer\">\n",
            "      <div class=\"frontpage-news-static-footer pull-right\"><a href=\"?q=dailynews\" title=\"More News Articles\"> MORE NEWS <i class=\"fa fa-angle-right\"></i></a></div>    </div>\n",
            "  \n",
            "  \n",
            "</div></div><!-- /.block -->\n",
            "<div id=\"block-block-34\" class=\"block block-block block-no-title\">\n",
            "      \n",
            "  <script type=\"text/javascript\">\n",
            "/*<![CDATA[*/\n",
            "(function() {\n",
            "var sz = document.createElement('script'); sz.type = 'text/javascript'; sz.async = true;\n",
            "sz.src = '//siteimproveanalytics.com/js/siteanalyze_67796762.js';\n",
            "var s = document.getElementsByTagName('script')[0]; s.parentNode.insertBefore(sz, s);\n",
            "})();\n",
            "/*]]>*/\n",
            "</script>\n",
            "</div><!-- /.block -->\n",
            "  </div>\n",
            "    </div>\n",
            "</div>\n",
            "        <footer class=\"footer\">\n",
            "    <div class=\"container hidden-xs hidden-sm\">\n",
            "        <img src=\"/sites/all/themes/uwindsor_bootstrap/images/uwindsor_shield.svg\" onerror=\"this.onerror=null; this.src='/sites/all/themes/uwindsor_bootstrap/images/uwin_shield_small.png'\" alt=\"UWindsor Shield\" class=\"footer-shield center-block\">\n",
            "    </div>\n",
            "\n",
            "    <div class=\"container footer-container\">\n",
            "        <div class=\"main-footer\">\n",
            "            <div class=\"region\">\n",
            "                <div class=\"col-md-12\">\n",
            "                    <div class=\"col-md-3\">\n",
            "                        <img src=\"/sites/all/themes/uwindsor_bootstrap/images/uwindsor_footer_logo.svg\" onerror=\"this.onerror=null; this.src='/sites/all/themes/uwindsor_bootstrap/images/white-text-logo-small.png'\" alt=\"UWindsor Logo\" class=\"center-block footer-logo\">\n",
            "                    </div>\n",
            "                    <div class=\"col-md-3 footer-links\">\n",
            "                        <ul>\n",
            "                            <li><a href=\"//uwindsor.ca/contact\">Contact Us</a></li>\n",
            "                            <li><a href=\"//uwindsor.ca/directory\">University Directory</a></li>\n",
            "                            <li><a href=\"//uwindsor.ca/ohrea/accessibility\">Accessibility</a></li>\n",
            "                        </ul>\n",
            "                    </div>\n",
            "                    <div class=\"col-md-3 footer-links\">\n",
            "                        <ul>\n",
            "                            <li><a href=\"//uwindsor.ca/pac/news-services\">News Services for Media</a></li>\n",
            "                            <li><a href=\"//uwindsor.ca/app/\">UWindsor mobile apps</a></li>\n",
            "                            <li><a href=\"//uwindsor.ca/394207/terms-and-conditions\">Terms & Conditions</a></li>\n",
            "                            <li><a href=\"//uwindsor.ca/policies\">Policies</a></li>\n",
            "\t\t\t                <li><a href=\"//uwindsor.ca/its/uwinid\">Manage UWin Account</a></li>\n",
            "                        </ul>\n",
            "                    </div>\n",
            "                    <div class=\"col-md-3 emergency-services\">\n",
            "                        <span><a href=\"//www.uwindsor.ca/emergency-services\">&nbsp;Emergency Services&nbsp;<br/>&nbsp;for Students&nbsp;</a></span>\n",
            "                    </div>\n",
            "                </div>\n",
            "\n",
            "            </div>\n",
            "        </div>\n",
            "    </div>\n",
            "\n",
            "    <div class=\"bottom_navigation\">\n",
            "        <div class=\"container\">\n",
            "            <div class=\"footer-icons\">\n",
            "                <ul class=\"center-block\">\n",
            "                    <li><a href=\"https://twitter.com/uwindsor\" target=\"_blank\" title=\"Follow on Twitter\"><em class=\"fa fa-twitter\"></em><span class=\"screen-reader-text\">Follow us on Twitter</span></a></li>\n",
            "                    <li><a href=\"https://www.facebook.com/UWindsor/\" target=\"_blank\" title=\"Follow on Facebook\"><em class=\"fa fa-facebook\"></em><span class=\"screen-reader-text\">Follow us on Facebook</span></a></li>\n",
            "                    <li><a href=\"https://www.linkedin.com/school/uwindsor\" target=\"_blank\" title=\"Follow on LinkedIn\"><em class=\"fa fa-linkedin\"></em><span class=\"screen-reader-text\">Follow us on LinkedIn</span></a></li>\n",
            "                    <li><a href=\"https://www.flickr.com/groups/uwindsor\" target=\"_blank\" title=\"Follow on Flickr\"><em class=\"fa fa-flickr\"></em><span class=\"screen-reader-text\">Follow us on Flickr</span></a></li>\n",
            "                    <li><a href=\"https://www.youtube.com/user/uwindsor\" target=\"_blank\" title=\"Follow on Youtube\"><em class=\"fa fa-youtube-play\"></em><span class=\"screen-reader-text\">Follow us on Youtube</span></a></li>\n",
            "                    <li><a href=\"https://instagram.com/uwindsor/\" target=\"_blank\" title=\"Follow on Instagram\"><em class=\"fa fa-instagram\"></em><span class=\"screen-reader-text\">Follow us on Instagram</span></a></li>\n",
            "                </ul>\n",
            "            </div>\n",
            "        </div>\n",
            "    </div>\n",
            "</footer>\n",
            "</div>\n",
            "    <script src=\"https://www.uwindsor.ca/sites/all/libraries/owl-carousel/owl.carousel.min.js?qvfamc\"></script>\n",
            "<script src=\"https://www.uwindsor.ca/sites/all/modules/owlcarousel/includes/js/owlcarousel.settings.js?qvfamc\"></script>\n",
            "<script src=\"https://www.uwindsor.ca/sites/all/themes/bootstrap/js/bootstrap.js?qvfamc\"></script>\n",
            "  </div>\n",
            "</body>\n",
            "</html>\n"
          ],
          "name": "stdout"
        }
      ]
    },
    {
      "cell_type": "code",
      "metadata": {
        "colab": {
          "base_uri": "https://localhost:8080/"
        },
        "id": "TYSU_paFwMGT",
        "outputId": "85ffbca6-ed2f-49d0-e96e-a0c54d7d0297"
      },
      "source": [
        "!find sample_data/ -name *c*"
      ],
      "execution_count": null,
      "outputs": [
        {
          "output_type": "stream",
          "text": [
            "sample_data/anscombe.json\n",
            "sample_data/california_housing_test.csv\n",
            "sample_data/mnist_train_small.csv\n",
            "sample_data/california_housing_train.csv\n"
          ],
          "name": "stdout"
        }
      ]
    },
    {
      "cell_type": "code",
      "metadata": {
        "colab": {
          "base_uri": "https://localhost:8080/"
        },
        "id": "P65a-y9ayCaL",
        "outputId": "68fa3e3e-6d37-46fd-81ac-bfe588d2defd"
      },
      "source": [
        "!free -h"
      ],
      "execution_count": null,
      "outputs": [
        {
          "output_type": "stream",
          "text": [
            "              total        used        free      shared  buff/cache   available\n",
            "Mem:            12G        516M         10G        1.1M        2.2G         11G\n",
            "Swap:            0B          0B          0B\n"
          ],
          "name": "stdout"
        }
      ]
    },
    {
      "cell_type": "code",
      "metadata": {
        "colab": {
          "base_uri": "https://localhost:8080/"
        },
        "id": "kHpFOZylyKh8",
        "outputId": "4f61d714-1c3e-4585-c936-e666c55ab794"
      },
      "source": [
        "!gzip -k bobo.txt"
      ],
      "execution_count": null,
      "outputs": [
        {
          "output_type": "stream",
          "text": [
            "gzip: bobo.txt.gz already exists; do you wish to overwrite (y or n)? y\n"
          ],
          "name": "stdout"
        }
      ]
    },
    {
      "cell_type": "code",
      "metadata": {
        "colab": {
          "base_uri": "https://localhost:8080/"
        },
        "id": "Xs0xyyXgzljU",
        "outputId": "cddb91b3-efc6-4406-840b-d8cd8f8c5209"
      },
      "source": [
        "!head -n 7 bobo.txt"
      ],
      "execution_count": null,
      "outputs": [
        {
          "output_type": "stream",
          "text": [
            "This directory includes a few sample datasets to get you started.\n",
            "\n",
            "*   `california_housing_data*.csv` is California housing data from the 1990 US\n",
            "    Census; more information is available at:\n",
            "    https://developers.google.com/machine-learning/crash-course/california-housing-data-description\n",
            "\n",
            "*   `mnist_*.csv` is a small sample of the\n"
          ],
          "name": "stdout"
        }
      ]
    },
    {
      "cell_type": "code",
      "metadata": {
        "colab": {
          "base_uri": "https://localhost:8080/"
        },
        "id": "lNljlbie0pQr",
        "outputId": "0149f9a1-72b1-4328-c2ae-94375a67ac12"
      },
      "source": [
        "!tail -n 7 bobo.txt"
      ],
      "execution_count": null,
      "outputs": [
        {
          "output_type": "stream",
          "text": [
            "  {\"Series\":\"IV\", \"X\":8.0, \"Y\":7.04},\n",
            "  {\"Series\":\"IV\", \"X\":8.0, \"Y\":5.25},\n",
            "  {\"Series\":\"IV\", \"X\":19.0, \"Y\":12.50},\n",
            "  {\"Series\":\"IV\", \"X\":8.0, \"Y\":5.56},\n",
            "  {\"Series\":\"IV\", \"X\":8.0, \"Y\":7.91},\n",
            "  {\"Series\":\"IV\", \"X\":8.0, \"Y\":6.89}\n",
            "]\n"
          ],
          "name": "stdout"
        }
      ]
    },
    {
      "cell_type": "code",
      "metadata": {
        "id": "mov79Cq504Ek",
        "colab": {
          "base_uri": "https://localhost:8080/"
        },
        "outputId": "60f78757-64e9-4588-d1d9-a1cb11f33377"
      },
      "source": [
        "!ps -A"
      ],
      "execution_count": null,
      "outputs": [
        {
          "output_type": "stream",
          "text": [
            "    PID TTY          TIME CMD\n",
            "      1 ?        00:00:05 node\n",
            "     17 ?        00:00:00 tail\n",
            "     50 ?        00:00:06 jupyter-noteboo\n",
            "     51 ?        00:00:03 dap_multiplexer\n",
            "     82 ?        00:00:00 python3 <defunct>\n",
            "    245 ?        00:00:13 python3\n",
            "    263 ?        00:00:06 python3\n",
            "    756 ?        00:00:00 ps\n"
          ],
          "name": "stdout"
        }
      ]
    },
    {
      "cell_type": "code",
      "metadata": {
        "id": "CPBeg6vm1HPc"
      },
      "source": [
        "!kill 17"
      ],
      "execution_count": null,
      "outputs": []
    },
    {
      "cell_type": "code",
      "metadata": {
        "colab": {
          "base_uri": "https://localhost:8080/"
        },
        "id": "XOFgTYdN1cGL",
        "outputId": "41690d72-d863-41d9-9fd3-cdcbce6c56c4"
      },
      "source": [
        "!top"
      ],
      "execution_count": 1,
      "outputs": [
        {
          "output_type": "stream",
          "text": [
            "\u001b[?1h\u001b=\u001b[H\u001b[2J\u001b[mtop - 01:15:49 up 54 min,  0 users,  load average: 0.05, 0.07, 0.01\u001b[m\u001b[m\u001b[m\u001b[m\u001b[K\n",
            "Tasks:\u001b[m\u001b[m\u001b[1m   7 \u001b[m\u001b[mtotal,\u001b[m\u001b[m\u001b[1m   1 \u001b[m\u001b[mrunning,\u001b[m\u001b[m\u001b[1m   6 \u001b[m\u001b[msleeping,\u001b[m\u001b[m\u001b[1m   0 \u001b[m\u001b[mstopped,\u001b[m\u001b[m\u001b[1m   0 \u001b[m\u001b[mzombie\u001b[m\u001b[m\u001b[m\u001b[m\u001b[K\n",
            "%Cpu(s):\u001b[m\u001b[m\u001b[1m  1.6 \u001b[m\u001b[mus,\u001b[m\u001b[m\u001b[1m  0.9 \u001b[m\u001b[msy,\u001b[m\u001b[m\u001b[1m  0.0 \u001b[m\u001b[mni,\u001b[m\u001b[m\u001b[1m 97.1 \u001b[m\u001b[mid,\u001b[m\u001b[m\u001b[1m  0.3 \u001b[m\u001b[mwa,\u001b[m\u001b[m\u001b[1m  0.0 \u001b[m\u001b[mhi,\u001b[m\u001b[m\u001b[1m  0.0 \u001b[m\u001b[msi,\u001b[m\u001b[m\u001b[1m  0.0 \u001b[m\u001b[mst\u001b[m\u001b[m\u001b[m\u001b[m\u001b[K\n",
            "KiB Mem :\u001b[m\u001b[m\u001b[1m 13305368 \u001b[m\u001b[mtotal,\u001b[m\u001b[m\u001b[1m 10540536 \u001b[m\u001b[mfree,\u001b[m\u001b[m\u001b[1m   490988 \u001b[m\u001b[mused,\u001b[m\u001b[m\u001b[1m  2273844 \u001b[m\u001b[mbuff/cache\u001b[m\u001b[m\u001b[m\u001b[m\u001b[K\n",
            "KiB Swap:\u001b[m\u001b[m\u001b[1m        0 \u001b[m\u001b[mtotal,\u001b[m\u001b[m\u001b[1m        0 \u001b[m\u001b[mfree,\u001b[m\u001b[m\u001b[1m        0 \u001b[m\u001b[mused.\u001b[m\u001b[m\u001b[1m 12528636 \u001b[m\u001b[mavail Mem \u001b[m\u001b[m\u001b[m\u001b[m\u001b[K\n",
            "\u001b[K\n",
            "\u001b[7m    PID USER      PR  NI    VIRT    RES    SHR S  %CPU %MEM     TIME+ COMMAND   \u001b[m\u001b[m\u001b[K\n",
            "\u001b[m      1 root      20   0  337512  48668  32636 S   6.7  0.4   0:00.80 node      \u001b[m\u001b[m\u001b[K\n",
            "\u001b[m     21 root      20   0   35888   4652   3536 S   0.0  0.0   0:00.50 tail      \u001b[m\u001b[m\u001b[K\n",
            "\u001b[m     52 root      20   0  193896  59920  13748 S   0.0  0.5   0:00.78 jupyter-+ \u001b[m\u001b[m\u001b[K\n",
            "\u001b[m     53 root      20   0  707332   5948   4676 S   0.0  0.0   0:00.01 dap_mult+ \u001b[m\u001b[m\u001b[K\n",
            "\u001b[m     63 root      20   0  698688 115224  32452 S   0.0  0.9   0:01.63 python3   \u001b[m\u001b[m\u001b[K\n",
            "\u001b[m     83 root      20   0  127388  14464   5260 S   0.0  0.1   0:00.02 python3   \u001b[m\u001b[m\u001b[K\n",
            "\u001b[m\u001b[1m    121 root      20   0   63184   6744   5004 R   0.0  0.1   0:00.00 top       \u001b[m\u001b[m\u001b[K\n",
            "\u001b[J\u001b[H\u001b[mtop - 01:15:52 up 54 min,  0 users,  load average: 0.05, 0.07, 0.01\u001b[m\u001b[m\u001b[m\u001b[m\u001b[K\n",
            "Tasks:\u001b[m\u001b[m\u001b[1m   7 \u001b[m\u001b[mtotal,\u001b[m\u001b[m\u001b[1m   1 \u001b[m\u001b[mrunning,\u001b[m\u001b[m\u001b[1m   6 \u001b[m\u001b[msleeping,\u001b[m\u001b[m\u001b[1m   0 \u001b[m\u001b[mstopped,\u001b[m\u001b[m\u001b[1m   0 \u001b[m\u001b[mzombie\u001b[m\u001b[m\u001b[m\u001b[m\u001b[K\n",
            "%Cpu(s):\u001b[m\u001b[m\u001b[1m  1.8 \u001b[m\u001b[mus,\u001b[m\u001b[m\u001b[1m  0.8 \u001b[m\u001b[msy,\u001b[m\u001b[m\u001b[1m  0.0 \u001b[m\u001b[mni,\u001b[m\u001b[m\u001b[1m 97.2 \u001b[m\u001b[mid,\u001b[m\u001b[m\u001b[1m  0.0 \u001b[m\u001b[mwa,\u001b[m\u001b[m\u001b[1m  0.0 \u001b[m\u001b[mhi,\u001b[m\u001b[m\u001b[1m  0.2 \u001b[m\u001b[msi,\u001b[m\u001b[m\u001b[1m  0.0 \u001b[m\u001b[mst\u001b[m\u001b[m\u001b[m\u001b[m\u001b[K\n",
            "KiB Mem :\u001b[m\u001b[m\u001b[1m 13305368 \u001b[m\u001b[mtotal,\u001b[m\u001b[m\u001b[1m 10539400 \u001b[m\u001b[mfree,\u001b[m\u001b[m\u001b[1m   492088 \u001b[m\u001b[mused,\u001b[m\u001b[m\u001b[1m  2273880 \u001b[m\u001b[mbuff/cache\u001b[m\u001b[m\u001b[m\u001b[m\u001b[K\n",
            "KiB Swap:\u001b[m\u001b[m\u001b[1m        0 \u001b[m\u001b[mtotal,\u001b[m\u001b[m\u001b[1m        0 \u001b[m\u001b[mfree,\u001b[m\u001b[m\u001b[1m        0 \u001b[m\u001b[mused.\u001b[m\u001b[m\u001b[1m 12527620 \u001b[m\u001b[mavail Mem \u001b[m\u001b[m\u001b[m\u001b[m\u001b[K\n",
            "\u001b[K\n",
            "\n",
            "\u001b[m     63 root      20   0  698688 115488  32452 S   1.0  0.9   0:01.66 python3   \u001b[m\u001b[m\u001b[K\n",
            "\u001b[m      1 root      20   0  337512  47924  32636 S   0.7  0.4   0:00.82 node      \u001b[m\u001b[m\u001b[K\n",
            "\u001b[m     83 root      20   0  127644  14600   5260 S   0.3  0.1   0:00.03 python3   \u001b[m\u001b[m\u001b[K\n",
            "\u001b[m     21 root      20   0   35888   4652   3536 S   0.0  0.0   0:00.50 tail      \u001b[m\u001b[m\u001b[K\n",
            "\u001b[m     52 root      20   0  193896  59944  13748 S   0.0  0.5   0:00.78 jupyter-+ \u001b[m\u001b[m\u001b[K\n",
            "\u001b[m     53 root      20   0  707332   6512   4740 S   0.0  0.0   0:00.01 dap_mult+ \u001b[m\u001b[m\u001b[K\n",
            "\n",
            "\u001b[J\u001b[H\u001b[mtop - 01:15:55 up 54 min,  0 users,  load average: 0.05, 0.07, 0.01\u001b[m\u001b[m\u001b[m\u001b[m\u001b[K\n",
            "\n",
            "%Cpu(s):\u001b[m\u001b[m\u001b[1m  1.3 \u001b[m\u001b[mus,\u001b[m\u001b[m\u001b[1m  1.0 \u001b[m\u001b[msy,\u001b[m\u001b[m\u001b[1m  0.0 \u001b[m\u001b[mni,\u001b[m\u001b[m\u001b[1m 97.5 \u001b[m\u001b[mid,\u001b[m\u001b[m\u001b[1m  0.0 \u001b[m\u001b[mwa,\u001b[m\u001b[m\u001b[1m  0.0 \u001b[m\u001b[mhi,\u001b[m\u001b[m\u001b[1m  0.2 \u001b[m\u001b[msi,\u001b[m\u001b[m\u001b[1m  0.0 \u001b[m\u001b[mst\u001b[m\u001b[m\u001b[m\u001b[m\u001b[K\n",
            "KiB Mem :\u001b[m\u001b[m\u001b[1m 13305368 \u001b[m\u001b[mtotal,\u001b[m\u001b[m\u001b[1m 10538920 \u001b[m\u001b[mfree,\u001b[m\u001b[m\u001b[1m   492560 \u001b[m\u001b[mused,\u001b[m\u001b[m\u001b[1m  2273888 \u001b[m\u001b[mbuff/cache\u001b[m\u001b[m\u001b[m\u001b[m\u001b[K\n",
            "KiB Swap:\u001b[m\u001b[m\u001b[1m        0 \u001b[m\u001b[mtotal,\u001b[m\u001b[m\u001b[1m        0 \u001b[m\u001b[mfree,\u001b[m\u001b[m\u001b[1m        0 \u001b[m\u001b[mused.\u001b[m\u001b[m\u001b[1m 12527168 \u001b[m\u001b[mavail Mem \u001b[m\u001b[m\u001b[m\u001b[m\u001b[K\n",
            "\u001b[K\n",
            "\n",
            "\u001b[m     63 root      20   0  699720 115488  32452 S   0.7  0.9   0:01.68 python3   \u001b[m\u001b[m\u001b[K\n",
            "\u001b[m      1 root      20   0  337512  48180  32636 S   0.3  0.4   0:00.83 node      \u001b[m\u001b[m\u001b[K\n",
            "\u001b[m     52 root      20   0  193896  59952  13748 S   0.3  0.5   0:00.79 jupyter-+ \u001b[m\u001b[m\u001b[K\n",
            "\u001b[m     53 root      20   0  707332   7060   4800 S   0.3  0.1   0:00.02 dap_mult+ \u001b[m\u001b[m\u001b[K\n",
            "\u001b[m     21 root      20   0   35888   4652   3536 S   0.0  0.0   0:00.50 tail      \u001b[m\u001b[m\u001b[K\n",
            "\u001b[m     83 root      20   0  127644  14600   5260 S   0.0  0.1   0:00.03 python3   \u001b[m\u001b[m\u001b[K\n",
            "\n",
            "\u001b[J\u001b[H\u001b[mtop - 01:15:58 up 54 min,  0 users,  load average: 0.05, 0.07, 0.01\u001b[m\u001b[m\u001b[m\u001b[m\u001b[K\n",
            "\n",
            "%Cpu(s):\u001b[m\u001b[m\u001b[1m  1.0 \u001b[m\u001b[mus,\u001b[m\u001b[m\u001b[1m  0.7 \u001b[m\u001b[msy,\u001b[m\u001b[m\u001b[1m  0.0 \u001b[m\u001b[mni,\u001b[m\u001b[m\u001b[1m 98.3 \u001b[m\u001b[mid,\u001b[m\u001b[m\u001b[1m  0.0 \u001b[m\u001b[mwa,\u001b[m\u001b[m\u001b[1m  0.0 \u001b[m\u001b[mhi,\u001b[m\u001b[m\u001b[1m  0.0 \u001b[m\u001b[msi,\u001b[m\u001b[m\u001b[1m  0.0 \u001b[m\u001b[mst\u001b[m\u001b[m\u001b[m\u001b[m\u001b[K\n",
            "KiB Mem :\u001b[m\u001b[m\u001b[1m 13305368 \u001b[m\u001b[mtotal,\u001b[m\u001b[m\u001b[1m 10538164 \u001b[m\u001b[mfree,\u001b[m\u001b[m\u001b[1m   493316 \u001b[m\u001b[mused,\u001b[m\u001b[m\u001b[1m  2273888 \u001b[m\u001b[mbuff/cache\u001b[m\u001b[m\u001b[m\u001b[m\u001b[K\n",
            "KiB Swap:\u001b[m\u001b[m\u001b[1m        0 \u001b[m\u001b[mtotal,\u001b[m\u001b[m\u001b[1m        0 \u001b[m\u001b[mfree,\u001b[m\u001b[m\u001b[1m        0 \u001b[m\u001b[mused.\u001b[m\u001b[m\u001b[1m 12526612 \u001b[m\u001b[mavail Mem \u001b[m\u001b[m\u001b[m\u001b[m\u001b[K\n",
            "\u001b[K\n",
            "\n",
            "\u001b[m     63 root      20   0  699720 115488  32452 S   0.7  0.9   0:01.70 python3   \u001b[m\u001b[m\u001b[K\n",
            "\u001b[m     83 root      20   0  127644  14796   5260 S   0.3  0.1   0:00.04 python3   \u001b[m\u001b[m\u001b[K\n",
            "\u001b[m\u001b[1m    121 root      20   0   63184   6744   5004 R   0.3  0.1   0:00.01 top       \u001b[m\u001b[m\u001b[K\n",
            "\u001b[m      1 root      20   0  337512  48180  32636 S   0.0  0.4   0:00.83 node      \u001b[m\u001b[m\u001b[K\n",
            "\n",
            "\u001b[m     52 root      20   0  193896  59952  13748 S   0.0  0.5   0:00.79 jupyter-+ \u001b[m\u001b[m\u001b[K\n",
            "\u001b[m     53 root      20   0  707332   7568   4800 S   0.0  0.1   0:00.02 dap_mult+ \u001b[m\u001b[m\u001b[K\n",
            "\u001b[J\u001b[H\u001b[mtop - 01:16:01 up 54 min,  0 users,  load average: 0.05, 0.07, 0.01\u001b[m\u001b[m\u001b[m\u001b[m\u001b[K\n",
            "\n",
            "%Cpu(s):\u001b[m\u001b[m\u001b[1m  1.0 \u001b[m\u001b[mus,\u001b[m\u001b[m\u001b[1m  0.5 \u001b[m\u001b[msy,\u001b[m\u001b[m\u001b[1m  0.0 \u001b[m\u001b[mni,\u001b[m\u001b[m\u001b[1m 98.3 \u001b[m\u001b[mid,\u001b[m\u001b[m\u001b[1m  0.0 \u001b[m\u001b[mwa,\u001b[m\u001b[m\u001b[1m  0.0 \u001b[m\u001b[mhi,\u001b[m\u001b[m\u001b[1m  0.0 \u001b[m\u001b[msi,\u001b[m\u001b[m\u001b[1m  0.2 \u001b[m\u001b[mst\u001b[m\u001b[m\u001b[m\u001b[m\u001b[K\n",
            "KiB Mem :\u001b[m\u001b[m\u001b[1m 13305368 \u001b[m\u001b[mtotal,\u001b[m\u001b[m\u001b[1m 10537944 \u001b[m\u001b[mfree,\u001b[m\u001b[m\u001b[1m   493528 \u001b[m\u001b[mused,\u001b[m\u001b[m\u001b[1m  2273896 \u001b[m\u001b[mbuff/cache\u001b[m\u001b[m\u001b[m\u001b[m\u001b[K\n",
            "KiB Swap:\u001b[m\u001b[m\u001b[1m        0 \u001b[m\u001b[mtotal,\u001b[m\u001b[m\u001b[1m        0 \u001b[m\u001b[mfree,\u001b[m\u001b[m\u001b[1m        0 \u001b[m\u001b[mused.\u001b[m\u001b[m\u001b[1m 12526408 \u001b[m\u001b[mavail Mem \u001b[m\u001b[m\u001b[m\u001b[m\u001b[K\n",
            "\u001b[K\n",
            "\n",
            "\u001b[m     63 root      20   0  699720 115556  32504 S   0.7  0.9   0:01.72 python3   \u001b[m\u001b[m\u001b[K\n",
            "\u001b[m     53 root      20   0  707332   7568   4800 S   0.3  0.1   0:00.03 dap_mult+ \u001b[m\u001b[m\u001b[K\n",
            "\u001b[m     83 root      20   0  127900  14796   5260 S   0.3  0.1   0:00.05 python3   \u001b[m\u001b[m\u001b[K\n",
            "\u001b[m      1 root      20   0  337512  48432  32636 S   0.0  0.4   0:00.83 node      \u001b[m\u001b[m\u001b[K\n",
            "\n",
            "\n",
            "\u001b[m\u001b[1m    121 root      20   0   63184   6744   5004 R   0.0  0.1   0:00.01 top       \u001b[m\u001b[m\u001b[K\n",
            "\u001b[J\u001b[H\u001b[mtop - 01:16:05 up 54 min,  0 users,  load average: 0.04, 0.06, 0.01\u001b[m\u001b[m\u001b[m\u001b[m\u001b[K\n",
            "\n",
            "%Cpu(s):\u001b[m\u001b[m\u001b[1m  1.5 \u001b[m\u001b[mus,\u001b[m\u001b[m\u001b[1m  0.8 \u001b[m\u001b[msy,\u001b[m\u001b[m\u001b[1m  0.0 \u001b[m\u001b[mni,\u001b[m\u001b[m\u001b[1m 97.7 \u001b[m\u001b[mid,\u001b[m\u001b[m\u001b[1m  0.0 \u001b[m\u001b[mwa,\u001b[m\u001b[m\u001b[1m  0.0 \u001b[m\u001b[mhi,\u001b[m\u001b[m\u001b[1m  0.0 \u001b[m\u001b[msi,\u001b[m\u001b[m\u001b[1m  0.0 \u001b[m\u001b[mst\u001b[m\u001b[m\u001b[m\u001b[m\u001b[K\n",
            "KiB Mem :\u001b[m\u001b[m\u001b[1m 13305368 \u001b[m\u001b[mtotal,\u001b[m\u001b[m\u001b[1m 10536684 \u001b[m\u001b[mfree,\u001b[m\u001b[m\u001b[1m   494788 \u001b[m\u001b[mused,\u001b[m\u001b[m\u001b[1m  2273896 \u001b[m\u001b[mbuff/cache\u001b[m\u001b[m\u001b[m\u001b[m\u001b[K\n",
            "KiB Swap:\u001b[m\u001b[m\u001b[1m        0 \u001b[m\u001b[mtotal,\u001b[m\u001b[m\u001b[1m        0 \u001b[m\u001b[mfree,\u001b[m\u001b[m\u001b[1m        0 \u001b[m\u001b[mused.\u001b[m\u001b[m\u001b[1m 12525164 \u001b[m\u001b[mavail Mem \u001b[m\u001b[m\u001b[m\u001b[m\u001b[K\n",
            "\u001b[K\n",
            "\n",
            "\u001b[m     63 root      20   0  699720 115556  32504 S   0.7  0.9   0:01.74 python3   \u001b[m\u001b[m\u001b[K\n",
            "\u001b[m      1 root      20   0  337512  48672  32636 S   0.3  0.4   0:00.84 node      \u001b[m\u001b[m\u001b[K\n",
            "\u001b[m     52 root      20   0  193896  59972  13748 S   0.3  0.5   0:00.80 jupyter-+ \u001b[m\u001b[m\u001b[K\n",
            "\u001b[m     53 root      20   0  707332   8300   4800 S   0.3  0.1   0:00.04 dap_mult+ \u001b[m\u001b[m\u001b[K\n",
            "\u001b[m     83 root      20   0  127900  14796   5260 S   0.3  0.1   0:00.06 python3   \u001b[m\u001b[m\u001b[K\n",
            "\u001b[m     21 root      20   0   35888   4652   3536 S   0.0  0.0   0:00.50 tail      \u001b[m\u001b[m\u001b[K\n",
            "\n",
            "\u001b[J\u001b[?1l\u001b>\u001b[25;1H\n",
            "\u001b[K"
          ],
          "name": "stdout"
        }
      ]
    },
    {
      "cell_type": "code",
      "metadata": {
        "colab": {
          "base_uri": "https://localhost:8080/"
        },
        "id": "MYK3A10v14yU",
        "outputId": "0abf56cb-eb0b-49dd-893e-9ae39a41d8f0"
      },
      "source": [
        "!wget https://github.com/bhevencious/Workshop_ML-and-DL-using-SaaS/blob/main/misc_code.txt"
      ],
      "execution_count": 4,
      "outputs": [
        {
          "output_type": "stream",
          "text": [
            "--2021-07-09 01:21:03--  https://github.com/bhevencious/Workshop_ML-and-DL-using-SaaS/blob/main/misc_code.txt\n",
            "Resolving github.com (github.com)... 192.30.255.112\n",
            "Connecting to github.com (github.com)|192.30.255.112|:443... connected.\n",
            "HTTP request sent, awaiting response... 200 OK\n",
            "Length: unspecified [text/html]\n",
            "Saving to: ‘misc_code.txt.1’\n",
            "\n",
            "\rmisc_code.txt.1         [<=>                 ]       0  --.-KB/s               \rmisc_code.txt.1         [ <=>                ] 125.94K  --.-KB/s    in 0.02s   \n",
            "\n",
            "2021-07-09 01:21:04 (5.67 MB/s) - ‘misc_code.txt.1’ saved [128961]\n",
            "\n"
          ],
          "name": "stdout"
        }
      ]
    },
    {
      "cell_type": "code",
      "metadata": {
        "colab": {
          "base_uri": "https://localhost:8080/"
        },
        "id": "hHyW8NVh3-UE",
        "outputId": "080c19ed-3c1b-405a-a28e-d846c9e185c2"
      },
      "source": [
        "!uname -a"
      ],
      "execution_count": 5,
      "outputs": [
        {
          "output_type": "stream",
          "text": [
            "Linux e1fb832f7570 5.4.104+ #1 SMP Sat Jun 5 09:50:34 PDT 2021 x86_64 x86_64 x86_64 GNU/Linux\n"
          ],
          "name": "stdout"
        }
      ]
    },
    {
      "cell_type": "code",
      "metadata": {
        "colab": {
          "base_uri": "https://localhost:8080/"
        },
        "id": "jH1J8iLx4Azz",
        "outputId": "4659042c-28c6-453b-cacd-2a7319815f09"
      },
      "source": [
        "!w"
      ],
      "execution_count": 6,
      "outputs": [
        {
          "output_type": "stream",
          "text": [
            " 01:27:04 up  1:05,  0 users,  load average: 0.02, 0.03, 0.00\n",
            "USER     TTY      FROM             LOGIN@   IDLE   JCPU   PCPU WHAT\n"
          ],
          "name": "stdout"
        }
      ]
    },
    {
      "cell_type": "code",
      "metadata": {
        "colab": {
          "base_uri": "https://localhost:8080/"
        },
        "id": "dyqA8U5Q4LXM",
        "outputId": "c527a2ac-4750-489d-b616-5701104f0b2c"
      },
      "source": [
        "!whoami"
      ],
      "execution_count": 10,
      "outputs": [
        {
          "output_type": "stream",
          "text": [
            "root\n"
          ],
          "name": "stdout"
        }
      ]
    },
    {
      "cell_type": "code",
      "metadata": {
        "colab": {
          "base_uri": "https://localhost:8080/"
        },
        "id": "uc5gmfCW4DfL",
        "outputId": "8eb92736-3007-4451-fcd9-1f1e90650915"
      },
      "source": [
        "!lsb_release -a"
      ],
      "execution_count": 7,
      "outputs": [
        {
          "output_type": "stream",
          "text": [
            "No LSB modules are available.\n",
            "Distributor ID:\tUbuntu\n",
            "Description:\tUbuntu 18.04.5 LTS\n",
            "Release:\t18.04\n",
            "Codename:\tbionic\n"
          ],
          "name": "stdout"
        }
      ]
    },
    {
      "cell_type": "code",
      "metadata": {
        "colab": {
          "base_uri": "https://localhost:8080/"
        },
        "id": "qSyzSwgo4Gbc",
        "outputId": "2b063301-503f-4092-e2f8-3aec995ea1be"
      },
      "source": [
        "!lscpu"
      ],
      "execution_count": 13,
      "outputs": [
        {
          "output_type": "stream",
          "text": [
            "Architecture:        x86_64\n",
            "CPU op-mode(s):      32-bit, 64-bit\n",
            "Byte Order:          Little Endian\n",
            "CPU(s):              2\n",
            "On-line CPU(s) list: 0,1\n",
            "Thread(s) per core:  2\n",
            "Core(s) per socket:  1\n",
            "Socket(s):           1\n",
            "NUMA node(s):        1\n",
            "Vendor ID:           GenuineIntel\n",
            "CPU family:          6\n",
            "Model:               79\n",
            "Model name:          Intel(R) Xeon(R) CPU @ 2.20GHz\n",
            "Stepping:            0\n",
            "CPU MHz:             2200.164\n",
            "BogoMIPS:            4400.32\n",
            "Hypervisor vendor:   KVM\n",
            "Virtualization type: full\n",
            "L1d cache:           32K\n",
            "L1i cache:           32K\n",
            "L2 cache:            256K\n",
            "L3 cache:            56320K\n",
            "NUMA node0 CPU(s):   0,1\n",
            "Flags:               fpu vme de pse tsc msr pae mce cx8 apic sep mtrr pge mca cmov pat pse36 clflush mmx fxsr sse sse2 ss ht syscall nx pdpe1gb rdtscp lm constant_tsc rep_good nopl xtopology nonstop_tsc cpuid tsc_known_freq pni pclmulqdq ssse3 fma cx16 pcid sse4_1 sse4_2 x2apic movbe popcnt aes xsave avx f16c rdrand hypervisor lahf_lm abm 3dnowprefetch invpcid_single ssbd ibrs ibpb stibp fsgsbase tsc_adjust bmi1 hle avx2 smep bmi2 erms invpcid rtm rdseed adx smap xsaveopt arat md_clear arch_capabilities\n"
          ],
          "name": "stdout"
        }
      ]
    }
  ]
}